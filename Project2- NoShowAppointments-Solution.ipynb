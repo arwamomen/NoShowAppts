{
 "cells": [
  {
   "cell_type": "markdown",
   "id": "b4f55741",
   "metadata": {},
   "source": [
    "\n",
    "# Project: Investigate a Dataset - [No-Show Medical Appointments]\n",
    "\n",
    "## Table of Contents\n",
    "\n",
    "<ul>\n",
    "<li><a href=\"#intro\">Introduction</a></li>\n",
    "<li><a href=\"#descrip\">Dataset Description</a></li>\n",
    " <li><a href=\"#initexp\">Initial Exploration</a></li>\n",
    "<li><a href=\"#clean\">Cleaning</a></li>\n",
    "<li><a href=\"#augment\">Augmenting the Dataset</a></li>\n",
    "    <li><a href=\"#monov\">Monovariate Analysis</a></li>\n",
    "           <li><a href=\"#fullexp\">Exploring the full dataset</a></li>\n",
    "           <li><a href=\"#patexp\">Exploring the patient dataset</a></li>\n",
    "<li><a href=\"#ques\">Questions for Analysis</a></li>\n",
    "<li><a href=\"#eda\">Exploratory Data Analysis</a></li>\n",
    "      <li><a href=\"#q1\">Question 1</a></li>\n",
    "    <li><a href=\"#q2\">Question 2</a></li>\n",
    "      <li><a href=\"#q3\">Question 3</a></li>\n",
    "      <li><a href=\"#q4\">Question 4</a></li>\n",
    "      <li><a href=\"#q5\">Question 5</a></li>\n",
    "      <li><a href=\"#q6\">Question 6</a></li>\n",
    "      <li><a href=\"#q7\">Question 7</a></li>\n",
    "<li><a href=\"#conc\">Conclusions and Limitations</a></li>\n",
    "</ul>"
   ]
  },
  {
   "cell_type": "markdown",
   "id": "e8bf0a48",
   "metadata": {},
   "source": [
    "<a id='intro'></a>\n",
    "# Introduction\n",
    "<a id='descrip'></a>\n",
    "## Dataset Description \n",
    "\n",
    "This is a dataset containing data in a single file for over 110,000 medical appointments in Brazil, where the objective is to investigate the most important factors in predicting whether a patient will show up for their scheduled appointment. The original source of the dataset can be found [here](https://www.kaggle.com/joniarroba/noshowappointments)\n",
    "\n",
    "Column names:\n",
    "\n",
    "1) PatientId - A unique identifier for the patient\n",
    "\n",
    "2) AppointmentID - A unique identifier for the appointment made, as hypothetically a certain patient can book more than one appointment.\n",
    "\n",
    "3) Gender - Gender of the patient (Male 'M' or Female 'F')\n",
    "\n",
    "4) ScheduledDay - The date and time the patient called in to set an appointment\n",
    "\n",
    "5) AppointmentDay - The date and time the appointment is due\n",
    "\n",
    "6) Age - Patient's age\n",
    "\n",
    "7) Neighborhood - The location of the hospital\n",
    "\n",
    "8) Scholarship - Binary indicator: Whether or not the patient is enrolled in the Brazilian social welfare program Bolsa Família\n",
    "\n",
    "9) Hipertension (misspelled for Hypertension)- Whether or not the patient suffers from Hypertension\n",
    "\n",
    "10) Diabetes - Binary indicator: Whether or not the patient is diabetic\n",
    "\n",
    "11) Alcoholism - Binary indicator: Whether or not the patient suffers from alcoholism\n",
    "\n",
    "12) Handcap (misspelled for Handicap): Binary indicator: Whether or not the patient is handicapped\n",
    "\n",
    "13) SMS_received - The number of SMS reminders the patient received before the appointment\n",
    "\n",
    "14) No-show - Binary indicator: (Yes) if patient did NOT show up, and (No) if the patient SHOWED UP.\n",
    "\n",
    "\n",
    "Columns numbered 1-13 are features or indepdenent variables, while column 14 is the target or dependent variable.\n"
   ]
  },
  {
   "cell_type": "markdown",
   "id": "994f8228",
   "metadata": {},
   "source": [
    "<a id='initexp'></a>\n",
    "# Initial Exploration"
   ]
  },
  {
   "cell_type": "code",
   "execution_count": 1,
   "id": "3360fbf0",
   "metadata": {},
   "outputs": [],
   "source": [
    "# import necessary packages\n",
    "import pandas as pd\n",
    "import numpy as np\n",
    "import matplotlib.pyplot as plt\n",
    "import seaborn as sns\n",
    "from datetime import datetime, date\n",
    "%matplotlib inline\n",
    "sns.set_style('darkgrid')\n",
    "plt.rcParams[\"figure.figsize\"] = (10, 5) #sets the size for all figures following this statement"
   ]
  },
  {
   "cell_type": "code",
   "execution_count": 2,
   "id": "11afae17",
   "metadata": {},
   "outputs": [
    {
     "data": {
      "text/html": [
       "<div>\n",
       "<style scoped>\n",
       "    .dataframe tbody tr th:only-of-type {\n",
       "        vertical-align: middle;\n",
       "    }\n",
       "\n",
       "    .dataframe tbody tr th {\n",
       "        vertical-align: top;\n",
       "    }\n",
       "\n",
       "    .dataframe thead th {\n",
       "        text-align: right;\n",
       "    }\n",
       "</style>\n",
       "<table border=\"1\" class=\"dataframe\">\n",
       "  <thead>\n",
       "    <tr style=\"text-align: right;\">\n",
       "      <th></th>\n",
       "      <th>PatientId</th>\n",
       "      <th>AppointmentID</th>\n",
       "      <th>Gender</th>\n",
       "      <th>ScheduledDay</th>\n",
       "      <th>AppointmentDay</th>\n",
       "      <th>Age</th>\n",
       "      <th>Neighbourhood</th>\n",
       "      <th>Scholarship</th>\n",
       "      <th>Hipertension</th>\n",
       "      <th>Diabetes</th>\n",
       "      <th>Alcoholism</th>\n",
       "      <th>Handcap</th>\n",
       "      <th>SMS_received</th>\n",
       "      <th>No-show</th>\n",
       "    </tr>\n",
       "  </thead>\n",
       "  <tbody>\n",
       "    <tr>\n",
       "      <th>0</th>\n",
       "      <td>2.987250e+13</td>\n",
       "      <td>5642903</td>\n",
       "      <td>F</td>\n",
       "      <td>2016-04-29T18:38:08Z</td>\n",
       "      <td>2016-04-29T00:00:00Z</td>\n",
       "      <td>62</td>\n",
       "      <td>JARDIM DA PENHA</td>\n",
       "      <td>0</td>\n",
       "      <td>1</td>\n",
       "      <td>0</td>\n",
       "      <td>0</td>\n",
       "      <td>0</td>\n",
       "      <td>0</td>\n",
       "      <td>No</td>\n",
       "    </tr>\n",
       "    <tr>\n",
       "      <th>1</th>\n",
       "      <td>5.589978e+14</td>\n",
       "      <td>5642503</td>\n",
       "      <td>M</td>\n",
       "      <td>2016-04-29T16:08:27Z</td>\n",
       "      <td>2016-04-29T00:00:00Z</td>\n",
       "      <td>56</td>\n",
       "      <td>JARDIM DA PENHA</td>\n",
       "      <td>0</td>\n",
       "      <td>0</td>\n",
       "      <td>0</td>\n",
       "      <td>0</td>\n",
       "      <td>0</td>\n",
       "      <td>0</td>\n",
       "      <td>No</td>\n",
       "    </tr>\n",
       "    <tr>\n",
       "      <th>2</th>\n",
       "      <td>4.262962e+12</td>\n",
       "      <td>5642549</td>\n",
       "      <td>F</td>\n",
       "      <td>2016-04-29T16:19:04Z</td>\n",
       "      <td>2016-04-29T00:00:00Z</td>\n",
       "      <td>62</td>\n",
       "      <td>MATA DA PRAIA</td>\n",
       "      <td>0</td>\n",
       "      <td>0</td>\n",
       "      <td>0</td>\n",
       "      <td>0</td>\n",
       "      <td>0</td>\n",
       "      <td>0</td>\n",
       "      <td>No</td>\n",
       "    </tr>\n",
       "    <tr>\n",
       "      <th>3</th>\n",
       "      <td>8.679512e+11</td>\n",
       "      <td>5642828</td>\n",
       "      <td>F</td>\n",
       "      <td>2016-04-29T17:29:31Z</td>\n",
       "      <td>2016-04-29T00:00:00Z</td>\n",
       "      <td>8</td>\n",
       "      <td>PONTAL DE CAMBURI</td>\n",
       "      <td>0</td>\n",
       "      <td>0</td>\n",
       "      <td>0</td>\n",
       "      <td>0</td>\n",
       "      <td>0</td>\n",
       "      <td>0</td>\n",
       "      <td>No</td>\n",
       "    </tr>\n",
       "    <tr>\n",
       "      <th>4</th>\n",
       "      <td>8.841186e+12</td>\n",
       "      <td>5642494</td>\n",
       "      <td>F</td>\n",
       "      <td>2016-04-29T16:07:23Z</td>\n",
       "      <td>2016-04-29T00:00:00Z</td>\n",
       "      <td>56</td>\n",
       "      <td>JARDIM DA PENHA</td>\n",
       "      <td>0</td>\n",
       "      <td>1</td>\n",
       "      <td>1</td>\n",
       "      <td>0</td>\n",
       "      <td>0</td>\n",
       "      <td>0</td>\n",
       "      <td>No</td>\n",
       "    </tr>\n",
       "  </tbody>\n",
       "</table>\n",
       "</div>"
      ],
      "text/plain": [
       "      PatientId  AppointmentID Gender          ScheduledDay  \\\n",
       "0  2.987250e+13        5642903      F  2016-04-29T18:38:08Z   \n",
       "1  5.589978e+14        5642503      M  2016-04-29T16:08:27Z   \n",
       "2  4.262962e+12        5642549      F  2016-04-29T16:19:04Z   \n",
       "3  8.679512e+11        5642828      F  2016-04-29T17:29:31Z   \n",
       "4  8.841186e+12        5642494      F  2016-04-29T16:07:23Z   \n",
       "\n",
       "         AppointmentDay  Age      Neighbourhood  Scholarship  Hipertension  \\\n",
       "0  2016-04-29T00:00:00Z   62    JARDIM DA PENHA            0             1   \n",
       "1  2016-04-29T00:00:00Z   56    JARDIM DA PENHA            0             0   \n",
       "2  2016-04-29T00:00:00Z   62      MATA DA PRAIA            0             0   \n",
       "3  2016-04-29T00:00:00Z    8  PONTAL DE CAMBURI            0             0   \n",
       "4  2016-04-29T00:00:00Z   56    JARDIM DA PENHA            0             1   \n",
       "\n",
       "   Diabetes  Alcoholism  Handcap  SMS_received No-show  \n",
       "0         0           0        0             0      No  \n",
       "1         0           0        0             0      No  \n",
       "2         0           0        0             0      No  \n",
       "3         0           0        0             0      No  \n",
       "4         1           0        0             0      No  "
      ]
     },
     "execution_count": 2,
     "metadata": {},
     "output_type": "execute_result"
    }
   ],
   "source": [
    "# import file\n",
    "df=pd.read_csv('noshowappointments-kagglev2-may-2016.csv')\n",
    "df.head()"
   ]
  },
  {
   "cell_type": "code",
   "execution_count": 3,
   "id": "2d282d64",
   "metadata": {},
   "outputs": [
    {
     "name": "stdout",
     "output_type": "stream",
     "text": [
      "<class 'pandas.core.frame.DataFrame'>\n",
      "RangeIndex: 110527 entries, 0 to 110526\n",
      "Data columns (total 14 columns):\n",
      " #   Column          Non-Null Count   Dtype  \n",
      "---  ------          --------------   -----  \n",
      " 0   PatientId       110527 non-null  float64\n",
      " 1   AppointmentID   110527 non-null  int64  \n",
      " 2   Gender          110527 non-null  object \n",
      " 3   ScheduledDay    110527 non-null  object \n",
      " 4   AppointmentDay  110527 non-null  object \n",
      " 5   Age             110527 non-null  int64  \n",
      " 6   Neighbourhood   110527 non-null  object \n",
      " 7   Scholarship     110527 non-null  int64  \n",
      " 8   Hipertension    110527 non-null  int64  \n",
      " 9   Diabetes        110527 non-null  int64  \n",
      " 10  Alcoholism      110527 non-null  int64  \n",
      " 11  Handcap         110527 non-null  int64  \n",
      " 12  SMS_received    110527 non-null  int64  \n",
      " 13  No-show         110527 non-null  object \n",
      "dtypes: float64(1), int64(8), object(5)\n",
      "memory usage: 11.8+ MB\n"
     ]
    }
   ],
   "source": [
    "df.info()"
   ]
  },
  {
   "cell_type": "markdown",
   "id": "e9d0bd24",
   "metadata": {},
   "source": [
    "Count Null Entries"
   ]
  },
  {
   "cell_type": "code",
   "execution_count": 4,
   "id": "f400c089",
   "metadata": {},
   "outputs": [
    {
     "data": {
      "text/plain": [
       "0"
      ]
     },
     "execution_count": 4,
     "metadata": {},
     "output_type": "execute_result"
    }
   ],
   "source": [
    "df.isnull().sum().max()"
   ]
  },
  {
   "cell_type": "markdown",
   "id": "aff23903",
   "metadata": {},
   "source": [
    "Count duplicate entries based on both patient and appointment ID\n"
   ]
  },
  {
   "cell_type": "code",
   "execution_count": 5,
   "id": "aed60818",
   "metadata": {},
   "outputs": [
    {
     "data": {
      "text/plain": [
       "0"
      ]
     },
     "execution_count": 5,
     "metadata": {},
     "output_type": "execute_result"
    }
   ],
   "source": [
    "df.duplicated(subset=['PatientId','AppointmentID']).sum()"
   ]
  },
  {
   "cell_type": "code",
   "execution_count": 6,
   "id": "fde7e811",
   "metadata": {},
   "outputs": [
    {
     "data": {
      "text/plain": [
       "0    108286\n",
       "1      2042\n",
       "2       183\n",
       "3        13\n",
       "4         3\n",
       "Name: Handcap, dtype: int64"
      ]
     },
     "execution_count": 6,
     "metadata": {},
     "output_type": "execute_result"
    }
   ],
   "source": [
    "df['Handcap'].value_counts() "
   ]
  },
  {
   "cell_type": "markdown",
   "id": "1c100b51",
   "metadata": {},
   "source": [
    "**Since handcap should be boolean, it is likely that the column labels of 'Handcap' and 'SMS_received' were flipped**"
   ]
  },
  {
   "cell_type": "code",
   "execution_count": 7,
   "id": "e8b6deaa",
   "metadata": {},
   "outputs": [
    {
     "data": {
      "text/plain": [
       " 0      3539\n",
       " 1      2273\n",
       " 52     1746\n",
       " 49     1652\n",
       " 53     1651\n",
       "        ... \n",
       " 115       5\n",
       " 100       4\n",
       " 102       2\n",
       " 99        1\n",
       "-1         1\n",
       "Name: Age, Length: 104, dtype: int64"
      ]
     },
     "execution_count": 7,
     "metadata": {},
     "output_type": "execute_result"
    }
   ],
   "source": [
    "df['Age'].value_counts()"
   ]
  },
  {
   "cell_type": "markdown",
   "id": "6d4719cc",
   "metadata": {},
   "source": [
    "We should drop the row where age is -1 as it is invalid"
   ]
  },
  {
   "cell_type": "markdown",
   "id": "3f88d6f9",
   "metadata": {},
   "source": [
    "<a id='clean'></a>\n",
    "# Cleaning\n",
    "\n",
    "* Correct misspelled column labels, shorten column labels where possible, and turn into snake case (i.e. lower case, separating words with underscore)\n",
    "\n",
    "* Flip the labels of 'SMS_received' and 'Handicapped' columns\n",
    "\n",
    "* Turn ScheduledDay into date/time format\n",
    "\n",
    "* Turn AppointmentDay into date/time format\n",
    "\n",
    "* Delete the row where 'Age' is invalid (-1)\n",
    "\n",
    "* To avoid confusion in the meaning of 'Yes' and 'No' in the No-show column, rename the No-show column to 'show', and change every 'Yes' to 0='No' and every 'No' to 1='Yes'\n",
    "\n",
    "* PatientId : float --> int"
   ]
  },
  {
   "cell_type": "code",
   "execution_count": 8,
   "id": "3de2df27",
   "metadata": {},
   "outputs": [
    {
     "data": {
      "text/html": [
       "<div>\n",
       "<style scoped>\n",
       "    .dataframe tbody tr th:only-of-type {\n",
       "        vertical-align: middle;\n",
       "    }\n",
       "\n",
       "    .dataframe tbody tr th {\n",
       "        vertical-align: top;\n",
       "    }\n",
       "\n",
       "    .dataframe thead th {\n",
       "        text-align: right;\n",
       "    }\n",
       "</style>\n",
       "<table border=\"1\" class=\"dataframe\">\n",
       "  <thead>\n",
       "    <tr style=\"text-align: right;\">\n",
       "      <th></th>\n",
       "      <th>PatientId</th>\n",
       "      <th>AppointmentID</th>\n",
       "      <th>Gender</th>\n",
       "      <th>ScheduledDay</th>\n",
       "      <th>AppointmentDay</th>\n",
       "      <th>Age</th>\n",
       "      <th>Neighbourhood</th>\n",
       "      <th>Scholarship</th>\n",
       "      <th>Hipertension</th>\n",
       "      <th>Diabetes</th>\n",
       "      <th>Alcoholism</th>\n",
       "      <th>Handcap</th>\n",
       "      <th>SMS_received</th>\n",
       "      <th>No-show</th>\n",
       "    </tr>\n",
       "  </thead>\n",
       "  <tbody>\n",
       "    <tr>\n",
       "      <th>0</th>\n",
       "      <td>2.987250e+13</td>\n",
       "      <td>5642903</td>\n",
       "      <td>F</td>\n",
       "      <td>2016-04-29T18:38:08Z</td>\n",
       "      <td>2016-04-29T00:00:00Z</td>\n",
       "      <td>62</td>\n",
       "      <td>JARDIM DA PENHA</td>\n",
       "      <td>0</td>\n",
       "      <td>1</td>\n",
       "      <td>0</td>\n",
       "      <td>0</td>\n",
       "      <td>0</td>\n",
       "      <td>0</td>\n",
       "      <td>No</td>\n",
       "    </tr>\n",
       "    <tr>\n",
       "      <th>1</th>\n",
       "      <td>5.589978e+14</td>\n",
       "      <td>5642503</td>\n",
       "      <td>M</td>\n",
       "      <td>2016-04-29T16:08:27Z</td>\n",
       "      <td>2016-04-29T00:00:00Z</td>\n",
       "      <td>56</td>\n",
       "      <td>JARDIM DA PENHA</td>\n",
       "      <td>0</td>\n",
       "      <td>0</td>\n",
       "      <td>0</td>\n",
       "      <td>0</td>\n",
       "      <td>0</td>\n",
       "      <td>0</td>\n",
       "      <td>No</td>\n",
       "    </tr>\n",
       "    <tr>\n",
       "      <th>2</th>\n",
       "      <td>4.262962e+12</td>\n",
       "      <td>5642549</td>\n",
       "      <td>F</td>\n",
       "      <td>2016-04-29T16:19:04Z</td>\n",
       "      <td>2016-04-29T00:00:00Z</td>\n",
       "      <td>62</td>\n",
       "      <td>MATA DA PRAIA</td>\n",
       "      <td>0</td>\n",
       "      <td>0</td>\n",
       "      <td>0</td>\n",
       "      <td>0</td>\n",
       "      <td>0</td>\n",
       "      <td>0</td>\n",
       "      <td>No</td>\n",
       "    </tr>\n",
       "    <tr>\n",
       "      <th>3</th>\n",
       "      <td>8.679512e+11</td>\n",
       "      <td>5642828</td>\n",
       "      <td>F</td>\n",
       "      <td>2016-04-29T17:29:31Z</td>\n",
       "      <td>2016-04-29T00:00:00Z</td>\n",
       "      <td>8</td>\n",
       "      <td>PONTAL DE CAMBURI</td>\n",
       "      <td>0</td>\n",
       "      <td>0</td>\n",
       "      <td>0</td>\n",
       "      <td>0</td>\n",
       "      <td>0</td>\n",
       "      <td>0</td>\n",
       "      <td>No</td>\n",
       "    </tr>\n",
       "    <tr>\n",
       "      <th>4</th>\n",
       "      <td>8.841186e+12</td>\n",
       "      <td>5642494</td>\n",
       "      <td>F</td>\n",
       "      <td>2016-04-29T16:07:23Z</td>\n",
       "      <td>2016-04-29T00:00:00Z</td>\n",
       "      <td>56</td>\n",
       "      <td>JARDIM DA PENHA</td>\n",
       "      <td>0</td>\n",
       "      <td>1</td>\n",
       "      <td>1</td>\n",
       "      <td>0</td>\n",
       "      <td>0</td>\n",
       "      <td>0</td>\n",
       "      <td>No</td>\n",
       "    </tr>\n",
       "  </tbody>\n",
       "</table>\n",
       "</div>"
      ],
      "text/plain": [
       "      PatientId  AppointmentID Gender          ScheduledDay  \\\n",
       "0  2.987250e+13        5642903      F  2016-04-29T18:38:08Z   \n",
       "1  5.589978e+14        5642503      M  2016-04-29T16:08:27Z   \n",
       "2  4.262962e+12        5642549      F  2016-04-29T16:19:04Z   \n",
       "3  8.679512e+11        5642828      F  2016-04-29T17:29:31Z   \n",
       "4  8.841186e+12        5642494      F  2016-04-29T16:07:23Z   \n",
       "\n",
       "         AppointmentDay  Age      Neighbourhood  Scholarship  Hipertension  \\\n",
       "0  2016-04-29T00:00:00Z   62    JARDIM DA PENHA            0             1   \n",
       "1  2016-04-29T00:00:00Z   56    JARDIM DA PENHA            0             0   \n",
       "2  2016-04-29T00:00:00Z   62      MATA DA PRAIA            0             0   \n",
       "3  2016-04-29T00:00:00Z    8  PONTAL DE CAMBURI            0             0   \n",
       "4  2016-04-29T00:00:00Z   56    JARDIM DA PENHA            0             1   \n",
       "\n",
       "   Diabetes  Alcoholism  Handcap  SMS_received No-show  \n",
       "0         0           0        0             0      No  \n",
       "1         0           0        0             0      No  \n",
       "2         0           0        0             0      No  \n",
       "3         0           0        0             0      No  \n",
       "4         1           0        0             0      No  "
      ]
     },
     "execution_count": 8,
     "metadata": {},
     "output_type": "execute_result"
    }
   ],
   "source": [
    "df.head()"
   ]
  },
  {
   "cell_type": "markdown",
   "id": "c7b03355",
   "metadata": {},
   "source": [
    "### Correct misspelled column labels"
   ]
  },
  {
   "cell_type": "code",
   "execution_count": 9,
   "id": "34abe818",
   "metadata": {},
   "outputs": [
    {
     "data": {
      "text/html": [
       "<div>\n",
       "<style scoped>\n",
       "    .dataframe tbody tr th:only-of-type {\n",
       "        vertical-align: middle;\n",
       "    }\n",
       "\n",
       "    .dataframe tbody tr th {\n",
       "        vertical-align: top;\n",
       "    }\n",
       "\n",
       "    .dataframe thead th {\n",
       "        text-align: right;\n",
       "    }\n",
       "</style>\n",
       "<table border=\"1\" class=\"dataframe\">\n",
       "  <thead>\n",
       "    <tr style=\"text-align: right;\">\n",
       "      <th></th>\n",
       "      <th>patient</th>\n",
       "      <th>appt</th>\n",
       "      <th>sex</th>\n",
       "      <th>scd_datetime</th>\n",
       "      <th>appt_datetime</th>\n",
       "      <th>age</th>\n",
       "      <th>area</th>\n",
       "      <th>bolsa</th>\n",
       "      <th>hypert</th>\n",
       "      <th>diabetic</th>\n",
       "      <th>alcoholic</th>\n",
       "      <th>handicap</th>\n",
       "      <th>sms</th>\n",
       "      <th>no_show</th>\n",
       "    </tr>\n",
       "  </thead>\n",
       "  <tbody>\n",
       "    <tr>\n",
       "      <th>0</th>\n",
       "      <td>2.987250e+13</td>\n",
       "      <td>5642903</td>\n",
       "      <td>F</td>\n",
       "      <td>2016-04-29T18:38:08Z</td>\n",
       "      <td>2016-04-29T00:00:00Z</td>\n",
       "      <td>62</td>\n",
       "      <td>JARDIM DA PENHA</td>\n",
       "      <td>0</td>\n",
       "      <td>1</td>\n",
       "      <td>0</td>\n",
       "      <td>0</td>\n",
       "      <td>0</td>\n",
       "      <td>0</td>\n",
       "      <td>No</td>\n",
       "    </tr>\n",
       "  </tbody>\n",
       "</table>\n",
       "</div>"
      ],
      "text/plain": [
       "        patient     appt sex          scd_datetime         appt_datetime  age  \\\n",
       "0  2.987250e+13  5642903   F  2016-04-29T18:38:08Z  2016-04-29T00:00:00Z   62   \n",
       "\n",
       "              area  bolsa  hypert  diabetic  alcoholic  handicap  sms no_show  \n",
       "0  JARDIM DA PENHA      0       1         0          0         0    0      No  "
      ]
     },
     "execution_count": 9,
     "metadata": {},
     "output_type": "execute_result"
    }
   ],
   "source": [
    "new_cols={'PatientId':'patient',\n",
    "          'AppointmentID':'appt',\n",
    "          'Gender':'sex',\n",
    "          'ScheduledDay':'scd_datetime',\n",
    "          'AppointmentDay': 'appt_datetime',\n",
    "          'Age':'age',\n",
    "          'Neighbourhood':'area',\n",
    "          'Scholarship':'bolsa',\n",
    "          'Hipertension':'hypert',\n",
    "          'Diabetes':'diabetic',\n",
    "          'Alcoholism': 'alcoholic',\n",
    "          'Handcap':'handicap',\n",
    "          'SMS_received':'sms',\n",
    "          'No-show':'no_show'\n",
    "}\n",
    "df.rename(columns=new_cols,inplace=True)\n",
    "df.head(1)"
   ]
  },
  {
   "cell_type": "markdown",
   "id": "97db686e",
   "metadata": {},
   "source": [
    "### Flip the labels of 'sms' and 'handicap' columns"
   ]
  },
  {
   "cell_type": "code",
   "execution_count": 10,
   "id": "eac40886",
   "metadata": {},
   "outputs": [
    {
     "data": {
      "text/html": [
       "<div>\n",
       "<style scoped>\n",
       "    .dataframe tbody tr th:only-of-type {\n",
       "        vertical-align: middle;\n",
       "    }\n",
       "\n",
       "    .dataframe tbody tr th {\n",
       "        vertical-align: top;\n",
       "    }\n",
       "\n",
       "    .dataframe thead th {\n",
       "        text-align: right;\n",
       "    }\n",
       "</style>\n",
       "<table border=\"1\" class=\"dataframe\">\n",
       "  <thead>\n",
       "    <tr style=\"text-align: right;\">\n",
       "      <th></th>\n",
       "      <th>patient</th>\n",
       "      <th>appt</th>\n",
       "      <th>sex</th>\n",
       "      <th>scd_datetime</th>\n",
       "      <th>appt_datetime</th>\n",
       "      <th>age</th>\n",
       "      <th>area</th>\n",
       "      <th>bolsa</th>\n",
       "      <th>hypert</th>\n",
       "      <th>diabetic</th>\n",
       "      <th>alcoholic</th>\n",
       "      <th>sms</th>\n",
       "      <th>handicap</th>\n",
       "      <th>no_show</th>\n",
       "    </tr>\n",
       "  </thead>\n",
       "  <tbody>\n",
       "    <tr>\n",
       "      <th>0</th>\n",
       "      <td>2.987250e+13</td>\n",
       "      <td>5642903</td>\n",
       "      <td>F</td>\n",
       "      <td>2016-04-29T18:38:08Z</td>\n",
       "      <td>2016-04-29T00:00:00Z</td>\n",
       "      <td>62</td>\n",
       "      <td>JARDIM DA PENHA</td>\n",
       "      <td>0</td>\n",
       "      <td>1</td>\n",
       "      <td>0</td>\n",
       "      <td>0</td>\n",
       "      <td>0</td>\n",
       "      <td>0</td>\n",
       "      <td>No</td>\n",
       "    </tr>\n",
       "  </tbody>\n",
       "</table>\n",
       "</div>"
      ],
      "text/plain": [
       "        patient     appt sex          scd_datetime         appt_datetime  age  \\\n",
       "0  2.987250e+13  5642903   F  2016-04-29T18:38:08Z  2016-04-29T00:00:00Z   62   \n",
       "\n",
       "              area  bolsa  hypert  diabetic  alcoholic  sms  handicap no_show  \n",
       "0  JARDIM DA PENHA      0       1         0          0    0         0      No  "
      ]
     },
     "execution_count": 10,
     "metadata": {},
     "output_type": "execute_result"
    }
   ],
   "source": [
    "df.rename(columns={'sms':'handicap',\n",
    "                  'handicap':'sms'}\n",
    "          ,inplace=True)\n",
    "df.head(1)"
   ]
  },
  {
   "cell_type": "code",
   "execution_count": 11,
   "id": "d96591e5",
   "metadata": {},
   "outputs": [
    {
     "data": {
      "text/plain": [
       "(0    108286\n",
       " 1      2042\n",
       " 2       183\n",
       " 3        13\n",
       " 4         3\n",
       " Name: sms, dtype: int64,\n",
       " 0    75045\n",
       " 1    35482\n",
       " Name: handicap, dtype: int64)"
      ]
     },
     "execution_count": 11,
     "metadata": {},
     "output_type": "execute_result"
    }
   ],
   "source": [
    "# Check that sms has values 0-4 and handicap has values 0-1\n",
    "df.sms.value_counts(),df.handicap.value_counts()"
   ]
  },
  {
   "cell_type": "markdown",
   "id": "13011efe",
   "metadata": {},
   "source": [
    "###  Turn ScheduledDay into date/time format"
   ]
  },
  {
   "cell_type": "code",
   "execution_count": 12,
   "id": "a7cc152c",
   "metadata": {},
   "outputs": [
    {
     "name": "stdout",
     "output_type": "stream",
     "text": [
      "<class 'pandas._libs.tslibs.timestamps.Timestamp'>\n"
     ]
    },
    {
     "data": {
      "text/html": [
       "<div>\n",
       "<style scoped>\n",
       "    .dataframe tbody tr th:only-of-type {\n",
       "        vertical-align: middle;\n",
       "    }\n",
       "\n",
       "    .dataframe tbody tr th {\n",
       "        vertical-align: top;\n",
       "    }\n",
       "\n",
       "    .dataframe thead th {\n",
       "        text-align: right;\n",
       "    }\n",
       "</style>\n",
       "<table border=\"1\" class=\"dataframe\">\n",
       "  <thead>\n",
       "    <tr style=\"text-align: right;\">\n",
       "      <th></th>\n",
       "      <th>patient</th>\n",
       "      <th>appt</th>\n",
       "      <th>sex</th>\n",
       "      <th>scd_datetime</th>\n",
       "      <th>appt_datetime</th>\n",
       "      <th>age</th>\n",
       "      <th>area</th>\n",
       "      <th>bolsa</th>\n",
       "      <th>hypert</th>\n",
       "      <th>diabetic</th>\n",
       "      <th>alcoholic</th>\n",
       "      <th>sms</th>\n",
       "      <th>handicap</th>\n",
       "      <th>no_show</th>\n",
       "    </tr>\n",
       "  </thead>\n",
       "  <tbody>\n",
       "    <tr>\n",
       "      <th>0</th>\n",
       "      <td>2.987250e+13</td>\n",
       "      <td>5642903</td>\n",
       "      <td>F</td>\n",
       "      <td>2016-04-29 18:38:08</td>\n",
       "      <td>2016-04-29T00:00:00Z</td>\n",
       "      <td>62</td>\n",
       "      <td>JARDIM DA PENHA</td>\n",
       "      <td>0</td>\n",
       "      <td>1</td>\n",
       "      <td>0</td>\n",
       "      <td>0</td>\n",
       "      <td>0</td>\n",
       "      <td>0</td>\n",
       "      <td>No</td>\n",
       "    </tr>\n",
       "    <tr>\n",
       "      <th>1</th>\n",
       "      <td>5.589978e+14</td>\n",
       "      <td>5642503</td>\n",
       "      <td>M</td>\n",
       "      <td>2016-04-29 16:08:27</td>\n",
       "      <td>2016-04-29T00:00:00Z</td>\n",
       "      <td>56</td>\n",
       "      <td>JARDIM DA PENHA</td>\n",
       "      <td>0</td>\n",
       "      <td>0</td>\n",
       "      <td>0</td>\n",
       "      <td>0</td>\n",
       "      <td>0</td>\n",
       "      <td>0</td>\n",
       "      <td>No</td>\n",
       "    </tr>\n",
       "    <tr>\n",
       "      <th>2</th>\n",
       "      <td>4.262962e+12</td>\n",
       "      <td>5642549</td>\n",
       "      <td>F</td>\n",
       "      <td>2016-04-29 16:19:04</td>\n",
       "      <td>2016-04-29T00:00:00Z</td>\n",
       "      <td>62</td>\n",
       "      <td>MATA DA PRAIA</td>\n",
       "      <td>0</td>\n",
       "      <td>0</td>\n",
       "      <td>0</td>\n",
       "      <td>0</td>\n",
       "      <td>0</td>\n",
       "      <td>0</td>\n",
       "      <td>No</td>\n",
       "    </tr>\n",
       "    <tr>\n",
       "      <th>3</th>\n",
       "      <td>8.679512e+11</td>\n",
       "      <td>5642828</td>\n",
       "      <td>F</td>\n",
       "      <td>2016-04-29 17:29:31</td>\n",
       "      <td>2016-04-29T00:00:00Z</td>\n",
       "      <td>8</td>\n",
       "      <td>PONTAL DE CAMBURI</td>\n",
       "      <td>0</td>\n",
       "      <td>0</td>\n",
       "      <td>0</td>\n",
       "      <td>0</td>\n",
       "      <td>0</td>\n",
       "      <td>0</td>\n",
       "      <td>No</td>\n",
       "    </tr>\n",
       "    <tr>\n",
       "      <th>4</th>\n",
       "      <td>8.841186e+12</td>\n",
       "      <td>5642494</td>\n",
       "      <td>F</td>\n",
       "      <td>2016-04-29 16:07:23</td>\n",
       "      <td>2016-04-29T00:00:00Z</td>\n",
       "      <td>56</td>\n",
       "      <td>JARDIM DA PENHA</td>\n",
       "      <td>0</td>\n",
       "      <td>1</td>\n",
       "      <td>1</td>\n",
       "      <td>0</td>\n",
       "      <td>0</td>\n",
       "      <td>0</td>\n",
       "      <td>No</td>\n",
       "    </tr>\n",
       "  </tbody>\n",
       "</table>\n",
       "</div>"
      ],
      "text/plain": [
       "        patient     appt sex        scd_datetime         appt_datetime  age  \\\n",
       "0  2.987250e+13  5642903   F 2016-04-29 18:38:08  2016-04-29T00:00:00Z   62   \n",
       "1  5.589978e+14  5642503   M 2016-04-29 16:08:27  2016-04-29T00:00:00Z   56   \n",
       "2  4.262962e+12  5642549   F 2016-04-29 16:19:04  2016-04-29T00:00:00Z   62   \n",
       "3  8.679512e+11  5642828   F 2016-04-29 17:29:31  2016-04-29T00:00:00Z    8   \n",
       "4  8.841186e+12  5642494   F 2016-04-29 16:07:23  2016-04-29T00:00:00Z   56   \n",
       "\n",
       "                area  bolsa  hypert  diabetic  alcoholic  sms  handicap  \\\n",
       "0    JARDIM DA PENHA      0       1         0          0    0         0   \n",
       "1    JARDIM DA PENHA      0       0         0          0    0         0   \n",
       "2      MATA DA PRAIA      0       0         0          0    0         0   \n",
       "3  PONTAL DE CAMBURI      0       0         0          0    0         0   \n",
       "4    JARDIM DA PENHA      0       1         1          0    0         0   \n",
       "\n",
       "  no_show  \n",
       "0      No  \n",
       "1      No  \n",
       "2      No  \n",
       "3      No  \n",
       "4      No  "
      ]
     },
     "execution_count": 12,
     "metadata": {},
     "output_type": "execute_result"
    }
   ],
   "source": [
    "df['scd_datetime']=df['scd_datetime'].apply(lambda x:x.replace('T',' ').split('Z')[0])\n",
    "df['scd_datetime']=pd.to_datetime(df['scd_datetime'],infer_datetime_format=True)\n",
    "# Check\n",
    "print(type(df['scd_datetime'][0]))\n",
    "df.head()"
   ]
  },
  {
   "cell_type": "markdown",
   "id": "94443e35",
   "metadata": {},
   "source": [
    "### Turn AppointmentDay into date/time format"
   ]
  },
  {
   "cell_type": "code",
   "execution_count": 13,
   "id": "77f62ad6",
   "metadata": {},
   "outputs": [
    {
     "name": "stdout",
     "output_type": "stream",
     "text": [
      "<class 'pandas._libs.tslibs.timestamps.Timestamp'>\n"
     ]
    },
    {
     "data": {
      "text/html": [
       "<div>\n",
       "<style scoped>\n",
       "    .dataframe tbody tr th:only-of-type {\n",
       "        vertical-align: middle;\n",
       "    }\n",
       "\n",
       "    .dataframe tbody tr th {\n",
       "        vertical-align: top;\n",
       "    }\n",
       "\n",
       "    .dataframe thead th {\n",
       "        text-align: right;\n",
       "    }\n",
       "</style>\n",
       "<table border=\"1\" class=\"dataframe\">\n",
       "  <thead>\n",
       "    <tr style=\"text-align: right;\">\n",
       "      <th></th>\n",
       "      <th>patient</th>\n",
       "      <th>appt</th>\n",
       "      <th>sex</th>\n",
       "      <th>scd_datetime</th>\n",
       "      <th>appt_datetime</th>\n",
       "      <th>age</th>\n",
       "      <th>area</th>\n",
       "      <th>bolsa</th>\n",
       "      <th>hypert</th>\n",
       "      <th>diabetic</th>\n",
       "      <th>alcoholic</th>\n",
       "      <th>sms</th>\n",
       "      <th>handicap</th>\n",
       "      <th>no_show</th>\n",
       "    </tr>\n",
       "  </thead>\n",
       "  <tbody>\n",
       "    <tr>\n",
       "      <th>0</th>\n",
       "      <td>2.987250e+13</td>\n",
       "      <td>5642903</td>\n",
       "      <td>F</td>\n",
       "      <td>2016-04-29 18:38:08</td>\n",
       "      <td>2016-04-29</td>\n",
       "      <td>62</td>\n",
       "      <td>JARDIM DA PENHA</td>\n",
       "      <td>0</td>\n",
       "      <td>1</td>\n",
       "      <td>0</td>\n",
       "      <td>0</td>\n",
       "      <td>0</td>\n",
       "      <td>0</td>\n",
       "      <td>No</td>\n",
       "    </tr>\n",
       "    <tr>\n",
       "      <th>1</th>\n",
       "      <td>5.589978e+14</td>\n",
       "      <td>5642503</td>\n",
       "      <td>M</td>\n",
       "      <td>2016-04-29 16:08:27</td>\n",
       "      <td>2016-04-29</td>\n",
       "      <td>56</td>\n",
       "      <td>JARDIM DA PENHA</td>\n",
       "      <td>0</td>\n",
       "      <td>0</td>\n",
       "      <td>0</td>\n",
       "      <td>0</td>\n",
       "      <td>0</td>\n",
       "      <td>0</td>\n",
       "      <td>No</td>\n",
       "    </tr>\n",
       "    <tr>\n",
       "      <th>2</th>\n",
       "      <td>4.262962e+12</td>\n",
       "      <td>5642549</td>\n",
       "      <td>F</td>\n",
       "      <td>2016-04-29 16:19:04</td>\n",
       "      <td>2016-04-29</td>\n",
       "      <td>62</td>\n",
       "      <td>MATA DA PRAIA</td>\n",
       "      <td>0</td>\n",
       "      <td>0</td>\n",
       "      <td>0</td>\n",
       "      <td>0</td>\n",
       "      <td>0</td>\n",
       "      <td>0</td>\n",
       "      <td>No</td>\n",
       "    </tr>\n",
       "    <tr>\n",
       "      <th>3</th>\n",
       "      <td>8.679512e+11</td>\n",
       "      <td>5642828</td>\n",
       "      <td>F</td>\n",
       "      <td>2016-04-29 17:29:31</td>\n",
       "      <td>2016-04-29</td>\n",
       "      <td>8</td>\n",
       "      <td>PONTAL DE CAMBURI</td>\n",
       "      <td>0</td>\n",
       "      <td>0</td>\n",
       "      <td>0</td>\n",
       "      <td>0</td>\n",
       "      <td>0</td>\n",
       "      <td>0</td>\n",
       "      <td>No</td>\n",
       "    </tr>\n",
       "    <tr>\n",
       "      <th>4</th>\n",
       "      <td>8.841186e+12</td>\n",
       "      <td>5642494</td>\n",
       "      <td>F</td>\n",
       "      <td>2016-04-29 16:07:23</td>\n",
       "      <td>2016-04-29</td>\n",
       "      <td>56</td>\n",
       "      <td>JARDIM DA PENHA</td>\n",
       "      <td>0</td>\n",
       "      <td>1</td>\n",
       "      <td>1</td>\n",
       "      <td>0</td>\n",
       "      <td>0</td>\n",
       "      <td>0</td>\n",
       "      <td>No</td>\n",
       "    </tr>\n",
       "  </tbody>\n",
       "</table>\n",
       "</div>"
      ],
      "text/plain": [
       "        patient     appt sex        scd_datetime appt_datetime  age  \\\n",
       "0  2.987250e+13  5642903   F 2016-04-29 18:38:08    2016-04-29   62   \n",
       "1  5.589978e+14  5642503   M 2016-04-29 16:08:27    2016-04-29   56   \n",
       "2  4.262962e+12  5642549   F 2016-04-29 16:19:04    2016-04-29   62   \n",
       "3  8.679512e+11  5642828   F 2016-04-29 17:29:31    2016-04-29    8   \n",
       "4  8.841186e+12  5642494   F 2016-04-29 16:07:23    2016-04-29   56   \n",
       "\n",
       "                area  bolsa  hypert  diabetic  alcoholic  sms  handicap  \\\n",
       "0    JARDIM DA PENHA      0       1         0          0    0         0   \n",
       "1    JARDIM DA PENHA      0       0         0          0    0         0   \n",
       "2      MATA DA PRAIA      0       0         0          0    0         0   \n",
       "3  PONTAL DE CAMBURI      0       0         0          0    0         0   \n",
       "4    JARDIM DA PENHA      0       1         1          0    0         0   \n",
       "\n",
       "  no_show  \n",
       "0      No  \n",
       "1      No  \n",
       "2      No  \n",
       "3      No  \n",
       "4      No  "
      ]
     },
     "execution_count": 13,
     "metadata": {},
     "output_type": "execute_result"
    }
   ],
   "source": [
    "df['appt_datetime']=df['appt_datetime'].apply(lambda x:x.replace('T',' ').split('Z')[0])\n",
    "df['appt_datetime']=pd.to_datetime(df['appt_datetime'],infer_datetime_format=True)\n",
    "# Check\n",
    "print(type(df['appt_datetime'][0]))\n",
    "df.head()"
   ]
  },
  {
   "cell_type": "markdown",
   "id": "41e11929",
   "metadata": {},
   "source": [
    "### Delete the row where 'Age' is invalid (-1)"
   ]
  },
  {
   "cell_type": "code",
   "execution_count": 14,
   "id": "0dfdf6a7",
   "metadata": {},
   "outputs": [
    {
     "data": {
      "text/plain": [
       "Int64Index([99832], dtype='int64')"
      ]
     },
     "execution_count": 14,
     "metadata": {},
     "output_type": "execute_result"
    }
   ],
   "source": [
    "idx=df[df.age==-1].index\n",
    "idx"
   ]
  },
  {
   "cell_type": "code",
   "execution_count": 15,
   "id": "47c0658e",
   "metadata": {},
   "outputs": [
    {
     "data": {
      "text/html": [
       "<div>\n",
       "<style scoped>\n",
       "    .dataframe tbody tr th:only-of-type {\n",
       "        vertical-align: middle;\n",
       "    }\n",
       "\n",
       "    .dataframe tbody tr th {\n",
       "        vertical-align: top;\n",
       "    }\n",
       "\n",
       "    .dataframe thead th {\n",
       "        text-align: right;\n",
       "    }\n",
       "</style>\n",
       "<table border=\"1\" class=\"dataframe\">\n",
       "  <thead>\n",
       "    <tr style=\"text-align: right;\">\n",
       "      <th></th>\n",
       "      <th>patient</th>\n",
       "      <th>appt</th>\n",
       "      <th>sex</th>\n",
       "      <th>scd_datetime</th>\n",
       "      <th>appt_datetime</th>\n",
       "      <th>age</th>\n",
       "      <th>area</th>\n",
       "      <th>bolsa</th>\n",
       "      <th>hypert</th>\n",
       "      <th>diabetic</th>\n",
       "      <th>alcoholic</th>\n",
       "      <th>sms</th>\n",
       "      <th>handicap</th>\n",
       "      <th>no_show</th>\n",
       "    </tr>\n",
       "  </thead>\n",
       "  <tbody>\n",
       "  </tbody>\n",
       "</table>\n",
       "</div>"
      ],
      "text/plain": [
       "Empty DataFrame\n",
       "Columns: [patient, appt, sex, scd_datetime, appt_datetime, age, area, bolsa, hypert, diabetic, alcoholic, sms, handicap, no_show]\n",
       "Index: []"
      ]
     },
     "execution_count": 15,
     "metadata": {},
     "output_type": "execute_result"
    }
   ],
   "source": [
    "df.drop(labels=idx,axis=0,inplace=True,)\n",
    "#Check\n",
    "df[df.age==-1]"
   ]
  },
  {
   "cell_type": "markdown",
   "id": "27bb7d96",
   "metadata": {},
   "source": [
    "### Adjust the No-show column \n",
    "To avoid confusion in the meaning of 'Yes' and 'No' in the No-show column, rename the No-show column to 'show', and change every 'Yes' to 0='No' and every 'No' to 1='Yes'"
   ]
  },
  {
   "cell_type": "code",
   "execution_count": 16,
   "id": "272d02cf",
   "metadata": {},
   "outputs": [
    {
     "data": {
      "text/plain": [
       "No     88207\n",
       "Yes    22319\n",
       "Name: no_show, dtype: int64"
      ]
     },
     "execution_count": 16,
     "metadata": {},
     "output_type": "execute_result"
    }
   ],
   "source": [
    "# First, count the number of Yes and No entries before switching\n",
    "df.no_show.value_counts()"
   ]
  },
  {
   "cell_type": "code",
   "execution_count": 17,
   "id": "87127414",
   "metadata": {},
   "outputs": [
    {
     "data": {
      "text/html": [
       "<div>\n",
       "<style scoped>\n",
       "    .dataframe tbody tr th:only-of-type {\n",
       "        vertical-align: middle;\n",
       "    }\n",
       "\n",
       "    .dataframe tbody tr th {\n",
       "        vertical-align: top;\n",
       "    }\n",
       "\n",
       "    .dataframe thead th {\n",
       "        text-align: right;\n",
       "    }\n",
       "</style>\n",
       "<table border=\"1\" class=\"dataframe\">\n",
       "  <thead>\n",
       "    <tr style=\"text-align: right;\">\n",
       "      <th></th>\n",
       "      <th>patient</th>\n",
       "      <th>appt</th>\n",
       "      <th>sex</th>\n",
       "      <th>scd_datetime</th>\n",
       "      <th>appt_datetime</th>\n",
       "      <th>age</th>\n",
       "      <th>area</th>\n",
       "      <th>bolsa</th>\n",
       "      <th>hypert</th>\n",
       "      <th>diabetic</th>\n",
       "      <th>alcoholic</th>\n",
       "      <th>sms</th>\n",
       "      <th>handicap</th>\n",
       "      <th>show</th>\n",
       "    </tr>\n",
       "  </thead>\n",
       "  <tbody>\n",
       "    <tr>\n",
       "      <th>0</th>\n",
       "      <td>2.987250e+13</td>\n",
       "      <td>5642903</td>\n",
       "      <td>F</td>\n",
       "      <td>2016-04-29 18:38:08</td>\n",
       "      <td>2016-04-29</td>\n",
       "      <td>62</td>\n",
       "      <td>JARDIM DA PENHA</td>\n",
       "      <td>0</td>\n",
       "      <td>1</td>\n",
       "      <td>0</td>\n",
       "      <td>0</td>\n",
       "      <td>0</td>\n",
       "      <td>0</td>\n",
       "      <td>1</td>\n",
       "    </tr>\n",
       "  </tbody>\n",
       "</table>\n",
       "</div>"
      ],
      "text/plain": [
       "        patient     appt sex        scd_datetime appt_datetime  age  \\\n",
       "0  2.987250e+13  5642903   F 2016-04-29 18:38:08    2016-04-29   62   \n",
       "\n",
       "              area  bolsa  hypert  diabetic  alcoholic  sms  handicap  show  \n",
       "0  JARDIM DA PENHA      0       1         0          0    0         0     1  "
      ]
     },
     "execution_count": 17,
     "metadata": {},
     "output_type": "execute_result"
    }
   ],
   "source": [
    "df.rename(columns={'no_show':'show'}\n",
    "          ,inplace=True)\n",
    "df['show'].replace({'Yes':0,'No':1},inplace=True)\n",
    "df.head(1)"
   ]
  },
  {
   "cell_type": "code",
   "execution_count": 18,
   "id": "a074bc1c",
   "metadata": {},
   "outputs": [
    {
     "data": {
      "text/plain": [
       "1    88207\n",
       "0    22319\n",
       "Name: show, dtype: int64"
      ]
     },
     "execution_count": 18,
     "metadata": {},
     "output_type": "execute_result"
    }
   ],
   "source": [
    "df.show.value_counts()\n"
   ]
  },
  {
   "cell_type": "markdown",
   "id": "1afb75b0",
   "metadata": {},
   "source": [
    "### PatientId : float --> int"
   ]
  },
  {
   "cell_type": "code",
   "execution_count": 19,
   "id": "2716f2fc",
   "metadata": {},
   "outputs": [
    {
     "data": {
      "text/plain": [
       "numpy.int64"
      ]
     },
     "execution_count": 19,
     "metadata": {},
     "output_type": "execute_result"
    }
   ],
   "source": [
    "# casting to int64, because simply stating 'int' defaults to int32 which reverses the sign of the patient ID\n",
    "df.patient=df.patient.astype(np.int64) \n",
    "type(df.patient[0])"
   ]
  },
  {
   "cell_type": "code",
   "execution_count": 20,
   "id": "a902a8c0",
   "metadata": {},
   "outputs": [
    {
     "data": {
      "text/html": [
       "<div>\n",
       "<style scoped>\n",
       "    .dataframe tbody tr th:only-of-type {\n",
       "        vertical-align: middle;\n",
       "    }\n",
       "\n",
       "    .dataframe tbody tr th {\n",
       "        vertical-align: top;\n",
       "    }\n",
       "\n",
       "    .dataframe thead th {\n",
       "        text-align: right;\n",
       "    }\n",
       "</style>\n",
       "<table border=\"1\" class=\"dataframe\">\n",
       "  <thead>\n",
       "    <tr style=\"text-align: right;\">\n",
       "      <th></th>\n",
       "      <th>patient</th>\n",
       "      <th>appt</th>\n",
       "      <th>sex</th>\n",
       "      <th>scd_datetime</th>\n",
       "      <th>appt_datetime</th>\n",
       "      <th>age</th>\n",
       "      <th>area</th>\n",
       "      <th>bolsa</th>\n",
       "      <th>hypert</th>\n",
       "      <th>diabetic</th>\n",
       "      <th>alcoholic</th>\n",
       "      <th>sms</th>\n",
       "      <th>handicap</th>\n",
       "      <th>show</th>\n",
       "    </tr>\n",
       "  </thead>\n",
       "  <tbody>\n",
       "    <tr>\n",
       "      <th>0</th>\n",
       "      <td>29872499824296</td>\n",
       "      <td>5642903</td>\n",
       "      <td>F</td>\n",
       "      <td>2016-04-29 18:38:08</td>\n",
       "      <td>2016-04-29</td>\n",
       "      <td>62</td>\n",
       "      <td>JARDIM DA PENHA</td>\n",
       "      <td>0</td>\n",
       "      <td>1</td>\n",
       "      <td>0</td>\n",
       "      <td>0</td>\n",
       "      <td>0</td>\n",
       "      <td>0</td>\n",
       "      <td>1</td>\n",
       "    </tr>\n",
       "    <tr>\n",
       "      <th>1</th>\n",
       "      <td>558997776694438</td>\n",
       "      <td>5642503</td>\n",
       "      <td>M</td>\n",
       "      <td>2016-04-29 16:08:27</td>\n",
       "      <td>2016-04-29</td>\n",
       "      <td>56</td>\n",
       "      <td>JARDIM DA PENHA</td>\n",
       "      <td>0</td>\n",
       "      <td>0</td>\n",
       "      <td>0</td>\n",
       "      <td>0</td>\n",
       "      <td>0</td>\n",
       "      <td>0</td>\n",
       "      <td>1</td>\n",
       "    </tr>\n",
       "    <tr>\n",
       "      <th>2</th>\n",
       "      <td>4262962299951</td>\n",
       "      <td>5642549</td>\n",
       "      <td>F</td>\n",
       "      <td>2016-04-29 16:19:04</td>\n",
       "      <td>2016-04-29</td>\n",
       "      <td>62</td>\n",
       "      <td>MATA DA PRAIA</td>\n",
       "      <td>0</td>\n",
       "      <td>0</td>\n",
       "      <td>0</td>\n",
       "      <td>0</td>\n",
       "      <td>0</td>\n",
       "      <td>0</td>\n",
       "      <td>1</td>\n",
       "    </tr>\n",
       "    <tr>\n",
       "      <th>3</th>\n",
       "      <td>867951213174</td>\n",
       "      <td>5642828</td>\n",
       "      <td>F</td>\n",
       "      <td>2016-04-29 17:29:31</td>\n",
       "      <td>2016-04-29</td>\n",
       "      <td>8</td>\n",
       "      <td>PONTAL DE CAMBURI</td>\n",
       "      <td>0</td>\n",
       "      <td>0</td>\n",
       "      <td>0</td>\n",
       "      <td>0</td>\n",
       "      <td>0</td>\n",
       "      <td>0</td>\n",
       "      <td>1</td>\n",
       "    </tr>\n",
       "    <tr>\n",
       "      <th>4</th>\n",
       "      <td>8841186448183</td>\n",
       "      <td>5642494</td>\n",
       "      <td>F</td>\n",
       "      <td>2016-04-29 16:07:23</td>\n",
       "      <td>2016-04-29</td>\n",
       "      <td>56</td>\n",
       "      <td>JARDIM DA PENHA</td>\n",
       "      <td>0</td>\n",
       "      <td>1</td>\n",
       "      <td>1</td>\n",
       "      <td>0</td>\n",
       "      <td>0</td>\n",
       "      <td>0</td>\n",
       "      <td>1</td>\n",
       "    </tr>\n",
       "  </tbody>\n",
       "</table>\n",
       "</div>"
      ],
      "text/plain": [
       "           patient     appt sex        scd_datetime appt_datetime  age  \\\n",
       "0   29872499824296  5642903   F 2016-04-29 18:38:08    2016-04-29   62   \n",
       "1  558997776694438  5642503   M 2016-04-29 16:08:27    2016-04-29   56   \n",
       "2    4262962299951  5642549   F 2016-04-29 16:19:04    2016-04-29   62   \n",
       "3     867951213174  5642828   F 2016-04-29 17:29:31    2016-04-29    8   \n",
       "4    8841186448183  5642494   F 2016-04-29 16:07:23    2016-04-29   56   \n",
       "\n",
       "                area  bolsa  hypert  diabetic  alcoholic  sms  handicap  show  \n",
       "0    JARDIM DA PENHA      0       1         0          0    0         0     1  \n",
       "1    JARDIM DA PENHA      0       0         0          0    0         0     1  \n",
       "2      MATA DA PRAIA      0       0         0          0    0         0     1  \n",
       "3  PONTAL DE CAMBURI      0       0         0          0    0         0     1  \n",
       "4    JARDIM DA PENHA      0       1         1          0    0         0     1  "
      ]
     },
     "execution_count": 20,
     "metadata": {},
     "output_type": "execute_result"
    }
   ],
   "source": [
    "df.head()"
   ]
  },
  {
   "cell_type": "code",
   "execution_count": 21,
   "id": "d9601ab6",
   "metadata": {},
   "outputs": [
    {
     "name": "stdout",
     "output_type": "stream",
     "text": [
      "<class 'pandas.core.frame.DataFrame'>\n",
      "Int64Index: 110526 entries, 0 to 110526\n",
      "Data columns (total 14 columns):\n",
      " #   Column         Non-Null Count   Dtype         \n",
      "---  ------         --------------   -----         \n",
      " 0   patient        110526 non-null  int64         \n",
      " 1   appt           110526 non-null  int64         \n",
      " 2   sex            110526 non-null  object        \n",
      " 3   scd_datetime   110526 non-null  datetime64[ns]\n",
      " 4   appt_datetime  110526 non-null  datetime64[ns]\n",
      " 5   age            110526 non-null  int64         \n",
      " 6   area           110526 non-null  object        \n",
      " 7   bolsa          110526 non-null  int64         \n",
      " 8   hypert         110526 non-null  int64         \n",
      " 9   diabetic       110526 non-null  int64         \n",
      " 10  alcoholic      110526 non-null  int64         \n",
      " 11  sms            110526 non-null  int64         \n",
      " 12  handicap       110526 non-null  int64         \n",
      " 13  show           110526 non-null  int64         \n",
      "dtypes: datetime64[ns](2), int64(10), object(2)\n",
      "memory usage: 16.7+ MB\n"
     ]
    }
   ],
   "source": [
    "# Check all datatypes are appropriate\n",
    "df.info()"
   ]
  },
  {
   "cell_type": "code",
   "execution_count": 22,
   "id": "1961a455",
   "metadata": {},
   "outputs": [],
   "source": [
    "# Save the cleaned dataset to HDF5 file instead of CSV in order to preserve the date-time datatypes\n",
    "\n",
    "df.to_hdf('full_db_cleaned.h5',key='df',index=False)"
   ]
  },
  {
   "cell_type": "markdown",
   "id": "139ea57b",
   "metadata": {},
   "source": [
    "<a id='augment'></a>\n",
    "# Augmenting the Dataset"
   ]
  },
  {
   "cell_type": "markdown",
   "id": "eaec11e1",
   "metadata": {},
   "source": [
    "The current dataframe *df* contains duplicated patient IDs as some patients have made more than one appointment in the period being considered:"
   ]
  },
  {
   "cell_type": "code",
   "execution_count": 23,
   "id": "6d2eb94e",
   "metadata": {},
   "outputs": [
    {
     "data": {
      "text/plain": [
       "48228"
      ]
     },
     "execution_count": 23,
     "metadata": {},
     "output_type": "execute_result"
    }
   ],
   "source": [
    "df.patient.duplicated().sum()"
   ]
  },
  {
   "cell_type": "markdown",
   "id": "717578d1",
   "metadata": {},
   "source": [
    "It may be useful to create another dataframe where each row is unique to a patient and add columns indicating:\n",
    "\n",
    "1- The number of appointments made by each patient \n",
    "\n",
    "2- The number of times they showed up\n",
    "\n",
    "3- Each patient's attendance rate (this helps us normalize by the number of appointments per patient)"
   ]
  },
  {
   "cell_type": "code",
   "execution_count": 24,
   "id": "cc4bae20",
   "metadata": {},
   "outputs": [
    {
     "data": {
      "text/html": [
       "<div>\n",
       "<style scoped>\n",
       "    .dataframe tbody tr th:only-of-type {\n",
       "        vertical-align: middle;\n",
       "    }\n",
       "\n",
       "    .dataframe tbody tr th {\n",
       "        vertical-align: top;\n",
       "    }\n",
       "\n",
       "    .dataframe thead th {\n",
       "        text-align: right;\n",
       "    }\n",
       "</style>\n",
       "<table border=\"1\" class=\"dataframe\">\n",
       "  <thead>\n",
       "    <tr style=\"text-align: right;\">\n",
       "      <th></th>\n",
       "      <th>patient</th>\n",
       "      <th>sex</th>\n",
       "      <th>age</th>\n",
       "      <th>bolsa</th>\n",
       "      <th>hypert</th>\n",
       "      <th>diabetic</th>\n",
       "      <th>alcoholic</th>\n",
       "      <th>handicap</th>\n",
       "      <th>show</th>\n",
       "    </tr>\n",
       "  </thead>\n",
       "  <tbody>\n",
       "    <tr>\n",
       "      <th>0</th>\n",
       "      <td>29872499824296</td>\n",
       "      <td>F</td>\n",
       "      <td>62</td>\n",
       "      <td>0</td>\n",
       "      <td>1</td>\n",
       "      <td>0</td>\n",
       "      <td>0</td>\n",
       "      <td>0</td>\n",
       "      <td>1</td>\n",
       "    </tr>\n",
       "    <tr>\n",
       "      <th>1</th>\n",
       "      <td>558997776694438</td>\n",
       "      <td>M</td>\n",
       "      <td>56</td>\n",
       "      <td>0</td>\n",
       "      <td>0</td>\n",
       "      <td>0</td>\n",
       "      <td>0</td>\n",
       "      <td>0</td>\n",
       "      <td>1</td>\n",
       "    </tr>\n",
       "    <tr>\n",
       "      <th>2</th>\n",
       "      <td>4262962299951</td>\n",
       "      <td>F</td>\n",
       "      <td>62</td>\n",
       "      <td>0</td>\n",
       "      <td>0</td>\n",
       "      <td>0</td>\n",
       "      <td>0</td>\n",
       "      <td>0</td>\n",
       "      <td>1</td>\n",
       "    </tr>\n",
       "    <tr>\n",
       "      <th>3</th>\n",
       "      <td>867951213174</td>\n",
       "      <td>F</td>\n",
       "      <td>8</td>\n",
       "      <td>0</td>\n",
       "      <td>0</td>\n",
       "      <td>0</td>\n",
       "      <td>0</td>\n",
       "      <td>0</td>\n",
       "      <td>1</td>\n",
       "    </tr>\n",
       "    <tr>\n",
       "      <th>4</th>\n",
       "      <td>8841186448183</td>\n",
       "      <td>F</td>\n",
       "      <td>56</td>\n",
       "      <td>0</td>\n",
       "      <td>1</td>\n",
       "      <td>1</td>\n",
       "      <td>0</td>\n",
       "      <td>0</td>\n",
       "      <td>1</td>\n",
       "    </tr>\n",
       "    <tr>\n",
       "      <th>...</th>\n",
       "      <td>...</td>\n",
       "      <td>...</td>\n",
       "      <td>...</td>\n",
       "      <td>...</td>\n",
       "      <td>...</td>\n",
       "      <td>...</td>\n",
       "      <td>...</td>\n",
       "      <td>...</td>\n",
       "      <td>...</td>\n",
       "    </tr>\n",
       "    <tr>\n",
       "      <th>110522</th>\n",
       "      <td>2572134369293</td>\n",
       "      <td>F</td>\n",
       "      <td>56</td>\n",
       "      <td>0</td>\n",
       "      <td>0</td>\n",
       "      <td>0</td>\n",
       "      <td>0</td>\n",
       "      <td>1</td>\n",
       "      <td>1</td>\n",
       "    </tr>\n",
       "    <tr>\n",
       "      <th>110523</th>\n",
       "      <td>3596266328735</td>\n",
       "      <td>F</td>\n",
       "      <td>51</td>\n",
       "      <td>0</td>\n",
       "      <td>0</td>\n",
       "      <td>0</td>\n",
       "      <td>0</td>\n",
       "      <td>1</td>\n",
       "      <td>1</td>\n",
       "    </tr>\n",
       "    <tr>\n",
       "      <th>110524</th>\n",
       "      <td>15576631729893</td>\n",
       "      <td>F</td>\n",
       "      <td>21</td>\n",
       "      <td>0</td>\n",
       "      <td>0</td>\n",
       "      <td>0</td>\n",
       "      <td>0</td>\n",
       "      <td>1</td>\n",
       "      <td>1</td>\n",
       "    </tr>\n",
       "    <tr>\n",
       "      <th>110525</th>\n",
       "      <td>92134931435557</td>\n",
       "      <td>F</td>\n",
       "      <td>38</td>\n",
       "      <td>0</td>\n",
       "      <td>0</td>\n",
       "      <td>0</td>\n",
       "      <td>0</td>\n",
       "      <td>1</td>\n",
       "      <td>1</td>\n",
       "    </tr>\n",
       "    <tr>\n",
       "      <th>110526</th>\n",
       "      <td>377511518121127</td>\n",
       "      <td>F</td>\n",
       "      <td>54</td>\n",
       "      <td>0</td>\n",
       "      <td>0</td>\n",
       "      <td>0</td>\n",
       "      <td>0</td>\n",
       "      <td>1</td>\n",
       "      <td>1</td>\n",
       "    </tr>\n",
       "  </tbody>\n",
       "</table>\n",
       "<p>110526 rows × 9 columns</p>\n",
       "</div>"
      ],
      "text/plain": [
       "                patient sex  age  bolsa  hypert  diabetic  alcoholic  \\\n",
       "0        29872499824296   F   62      0       1         0          0   \n",
       "1       558997776694438   M   56      0       0         0          0   \n",
       "2         4262962299951   F   62      0       0         0          0   \n",
       "3          867951213174   F    8      0       0         0          0   \n",
       "4         8841186448183   F   56      0       1         1          0   \n",
       "...                 ...  ..  ...    ...     ...       ...        ...   \n",
       "110522    2572134369293   F   56      0       0         0          0   \n",
       "110523    3596266328735   F   51      0       0         0          0   \n",
       "110524   15576631729893   F   21      0       0         0          0   \n",
       "110525   92134931435557   F   38      0       0         0          0   \n",
       "110526  377511518121127   F   54      0       0         0          0   \n",
       "\n",
       "        handicap  show  \n",
       "0              0     1  \n",
       "1              0     1  \n",
       "2              0     1  \n",
       "3              0     1  \n",
       "4              0     1  \n",
       "...          ...   ...  \n",
       "110522         1     1  \n",
       "110523         1     1  \n",
       "110524         1     1  \n",
       "110525         1     1  \n",
       "110526         1     1  \n",
       "\n",
       "[110526 rows x 9 columns]"
      ]
     },
     "execution_count": 24,
     "metadata": {},
     "output_type": "execute_result"
    }
   ],
   "source": [
    "patient_data_cols=np.r_[0,2,5,7:11,12,13]\n",
    "df_patient_1=df.iloc[:,patient_data_cols]\n",
    "df_patient_1"
   ]
  },
  {
   "cell_type": "code",
   "execution_count": 25,
   "id": "5115c891",
   "metadata": {},
   "outputs": [
    {
     "data": {
      "text/html": [
       "<div>\n",
       "<style scoped>\n",
       "    .dataframe tbody tr th:only-of-type {\n",
       "        vertical-align: middle;\n",
       "    }\n",
       "\n",
       "    .dataframe tbody tr th {\n",
       "        vertical-align: top;\n",
       "    }\n",
       "\n",
       "    .dataframe thead th {\n",
       "        text-align: right;\n",
       "    }\n",
       "</style>\n",
       "<table border=\"1\" class=\"dataframe\">\n",
       "  <thead>\n",
       "    <tr style=\"text-align: right;\">\n",
       "      <th></th>\n",
       "      <th>num_appts</th>\n",
       "    </tr>\n",
       "    <tr>\n",
       "      <th>patient</th>\n",
       "      <th></th>\n",
       "    </tr>\n",
       "  </thead>\n",
       "  <tbody>\n",
       "    <tr>\n",
       "      <th>39217</th>\n",
       "      <td>1</td>\n",
       "    </tr>\n",
       "    <tr>\n",
       "      <th>43741</th>\n",
       "      <td>1</td>\n",
       "    </tr>\n",
       "    <tr>\n",
       "      <th>93779</th>\n",
       "      <td>1</td>\n",
       "    </tr>\n",
       "    <tr>\n",
       "      <th>141724</th>\n",
       "      <td>1</td>\n",
       "    </tr>\n",
       "    <tr>\n",
       "      <th>537615</th>\n",
       "      <td>1</td>\n",
       "    </tr>\n",
       "    <tr>\n",
       "      <th>...</th>\n",
       "      <td>...</td>\n",
       "    </tr>\n",
       "    <tr>\n",
       "      <th>999931985292928</th>\n",
       "      <td>5</td>\n",
       "    </tr>\n",
       "    <tr>\n",
       "      <th>999934989273974</th>\n",
       "      <td>1</td>\n",
       "    </tr>\n",
       "    <tr>\n",
       "      <th>999946536742891</th>\n",
       "      <td>1</td>\n",
       "    </tr>\n",
       "    <tr>\n",
       "      <th>999968578354866</th>\n",
       "      <td>1</td>\n",
       "    </tr>\n",
       "    <tr>\n",
       "      <th>999981631772427</th>\n",
       "      <td>1</td>\n",
       "    </tr>\n",
       "  </tbody>\n",
       "</table>\n",
       "<p>62298 rows × 1 columns</p>\n",
       "</div>"
      ],
      "text/plain": [
       "                 num_appts\n",
       "patient                   \n",
       "39217                    1\n",
       "43741                    1\n",
       "93779                    1\n",
       "141724                   1\n",
       "537615                   1\n",
       "...                    ...\n",
       "999931985292928          5\n",
       "999934989273974          1\n",
       "999946536742891          1\n",
       "999968578354866          1\n",
       "999981631772427          1\n",
       "\n",
       "[62298 rows x 1 columns]"
      ]
     },
     "execution_count": 25,
     "metadata": {},
     "output_type": "execute_result"
    }
   ],
   "source": [
    "df_patient_2=pd.DataFrame(df_patient_1.pivot_table(columns=['patient'], aggfunc='size'))\n",
    "df_patient_2.rename(columns={0:'num_appts'},inplace=True)\n",
    "df_patient_2"
   ]
  },
  {
   "cell_type": "code",
   "execution_count": 26,
   "id": "f595fbdf",
   "metadata": {},
   "outputs": [
    {
     "data": {
      "text/html": [
       "<div>\n",
       "<style scoped>\n",
       "    .dataframe tbody tr th:only-of-type {\n",
       "        vertical-align: middle;\n",
       "    }\n",
       "\n",
       "    .dataframe tbody tr th {\n",
       "        vertical-align: top;\n",
       "    }\n",
       "\n",
       "    .dataframe thead th {\n",
       "        text-align: right;\n",
       "    }\n",
       "</style>\n",
       "<table border=\"1\" class=\"dataframe\">\n",
       "  <thead>\n",
       "    <tr style=\"text-align: right;\">\n",
       "      <th></th>\n",
       "      <th>num_shows</th>\n",
       "    </tr>\n",
       "    <tr>\n",
       "      <th>patient</th>\n",
       "      <th></th>\n",
       "    </tr>\n",
       "  </thead>\n",
       "  <tbody>\n",
       "    <tr>\n",
       "      <th>39217</th>\n",
       "      <td>1</td>\n",
       "    </tr>\n",
       "    <tr>\n",
       "      <th>43741</th>\n",
       "      <td>1</td>\n",
       "    </tr>\n",
       "    <tr>\n",
       "      <th>93779</th>\n",
       "      <td>1</td>\n",
       "    </tr>\n",
       "    <tr>\n",
       "      <th>141724</th>\n",
       "      <td>1</td>\n",
       "    </tr>\n",
       "    <tr>\n",
       "      <th>537615</th>\n",
       "      <td>1</td>\n",
       "    </tr>\n",
       "    <tr>\n",
       "      <th>...</th>\n",
       "      <td>...</td>\n",
       "    </tr>\n",
       "    <tr>\n",
       "      <th>999931985292928</th>\n",
       "      <td>5</td>\n",
       "    </tr>\n",
       "    <tr>\n",
       "      <th>999934989273974</th>\n",
       "      <td>1</td>\n",
       "    </tr>\n",
       "    <tr>\n",
       "      <th>999946536742891</th>\n",
       "      <td>1</td>\n",
       "    </tr>\n",
       "    <tr>\n",
       "      <th>999968578354866</th>\n",
       "      <td>1</td>\n",
       "    </tr>\n",
       "    <tr>\n",
       "      <th>999981631772427</th>\n",
       "      <td>1</td>\n",
       "    </tr>\n",
       "  </tbody>\n",
       "</table>\n",
       "<p>62298 rows × 1 columns</p>\n",
       "</div>"
      ],
      "text/plain": [
       "                 num_shows\n",
       "patient                   \n",
       "39217                    1\n",
       "43741                    1\n",
       "93779                    1\n",
       "141724                   1\n",
       "537615                   1\n",
       "...                    ...\n",
       "999931985292928          5\n",
       "999934989273974          1\n",
       "999946536742891          1\n",
       "999968578354866          1\n",
       "999981631772427          1\n",
       "\n",
       "[62298 rows x 1 columns]"
      ]
     },
     "execution_count": 26,
     "metadata": {},
     "output_type": "execute_result"
    }
   ],
   "source": [
    "df_patient_3=pd.DataFrame(df.groupby('patient')['show'].sum())\n",
    "df_patient_3.rename(columns={'show':'num_shows'},inplace=True)\n",
    "df_patient_3"
   ]
  },
  {
   "cell_type": "code",
   "execution_count": 27,
   "id": "5cf0905f",
   "metadata": {},
   "outputs": [
    {
     "data": {
      "text/html": [
       "<div>\n",
       "<style scoped>\n",
       "    .dataframe tbody tr th:only-of-type {\n",
       "        vertical-align: middle;\n",
       "    }\n",
       "\n",
       "    .dataframe tbody tr th {\n",
       "        vertical-align: top;\n",
       "    }\n",
       "\n",
       "    .dataframe thead th {\n",
       "        text-align: right;\n",
       "    }\n",
       "</style>\n",
       "<table border=\"1\" class=\"dataframe\">\n",
       "  <thead>\n",
       "    <tr style=\"text-align: right;\">\n",
       "      <th></th>\n",
       "      <th>num_appts</th>\n",
       "      <th>num_shows</th>\n",
       "    </tr>\n",
       "    <tr>\n",
       "      <th>patient</th>\n",
       "      <th></th>\n",
       "      <th></th>\n",
       "    </tr>\n",
       "  </thead>\n",
       "  <tbody>\n",
       "    <tr>\n",
       "      <th>39217</th>\n",
       "      <td>1</td>\n",
       "      <td>1</td>\n",
       "    </tr>\n",
       "    <tr>\n",
       "      <th>43741</th>\n",
       "      <td>1</td>\n",
       "      <td>1</td>\n",
       "    </tr>\n",
       "    <tr>\n",
       "      <th>93779</th>\n",
       "      <td>1</td>\n",
       "      <td>1</td>\n",
       "    </tr>\n",
       "    <tr>\n",
       "      <th>141724</th>\n",
       "      <td>1</td>\n",
       "      <td>1</td>\n",
       "    </tr>\n",
       "    <tr>\n",
       "      <th>537615</th>\n",
       "      <td>1</td>\n",
       "      <td>1</td>\n",
       "    </tr>\n",
       "    <tr>\n",
       "      <th>...</th>\n",
       "      <td>...</td>\n",
       "      <td>...</td>\n",
       "    </tr>\n",
       "    <tr>\n",
       "      <th>999931985292928</th>\n",
       "      <td>5</td>\n",
       "      <td>5</td>\n",
       "    </tr>\n",
       "    <tr>\n",
       "      <th>999934989273974</th>\n",
       "      <td>1</td>\n",
       "      <td>1</td>\n",
       "    </tr>\n",
       "    <tr>\n",
       "      <th>999946536742891</th>\n",
       "      <td>1</td>\n",
       "      <td>1</td>\n",
       "    </tr>\n",
       "    <tr>\n",
       "      <th>999968578354866</th>\n",
       "      <td>1</td>\n",
       "      <td>1</td>\n",
       "    </tr>\n",
       "    <tr>\n",
       "      <th>999981631772427</th>\n",
       "      <td>1</td>\n",
       "      <td>1</td>\n",
       "    </tr>\n",
       "  </tbody>\n",
       "</table>\n",
       "<p>62298 rows × 2 columns</p>\n",
       "</div>"
      ],
      "text/plain": [
       "                 num_appts  num_shows\n",
       "patient                              \n",
       "39217                    1          1\n",
       "43741                    1          1\n",
       "93779                    1          1\n",
       "141724                   1          1\n",
       "537615                   1          1\n",
       "...                    ...        ...\n",
       "999931985292928          5          5\n",
       "999934989273974          1          1\n",
       "999946536742891          1          1\n",
       "999968578354866          1          1\n",
       "999981631772427          1          1\n",
       "\n",
       "[62298 rows x 2 columns]"
      ]
     },
     "execution_count": 27,
     "metadata": {},
     "output_type": "execute_result"
    }
   ],
   "source": [
    "df_patient_23=pd.merge(df_patient_2,df_patient_3,left_on='patient',right_on='patient',how='inner')\n",
    "df_patient_23"
   ]
  },
  {
   "cell_type": "code",
   "execution_count": 28,
   "id": "681b6f5f",
   "metadata": {},
   "outputs": [
    {
     "data": {
      "text/html": [
       "<div>\n",
       "<style scoped>\n",
       "    .dataframe tbody tr th:only-of-type {\n",
       "        vertical-align: middle;\n",
       "    }\n",
       "\n",
       "    .dataframe tbody tr th {\n",
       "        vertical-align: top;\n",
       "    }\n",
       "\n",
       "    .dataframe thead th {\n",
       "        text-align: right;\n",
       "    }\n",
       "</style>\n",
       "<table border=\"1\" class=\"dataframe\">\n",
       "  <thead>\n",
       "    <tr style=\"text-align: right;\">\n",
       "      <th></th>\n",
       "      <th>patient</th>\n",
       "      <th>num_appts</th>\n",
       "      <th>num_shows</th>\n",
       "      <th>sex</th>\n",
       "      <th>age</th>\n",
       "      <th>bolsa</th>\n",
       "      <th>hypert</th>\n",
       "      <th>diabetic</th>\n",
       "      <th>alcoholic</th>\n",
       "      <th>handicap</th>\n",
       "      <th>show</th>\n",
       "    </tr>\n",
       "  </thead>\n",
       "  <tbody>\n",
       "    <tr>\n",
       "      <th>0</th>\n",
       "      <td>39217</td>\n",
       "      <td>1</td>\n",
       "      <td>1</td>\n",
       "      <td>F</td>\n",
       "      <td>44</td>\n",
       "      <td>0</td>\n",
       "      <td>0</td>\n",
       "      <td>0</td>\n",
       "      <td>0</td>\n",
       "      <td>0</td>\n",
       "      <td>1</td>\n",
       "    </tr>\n",
       "    <tr>\n",
       "      <th>1</th>\n",
       "      <td>43741</td>\n",
       "      <td>1</td>\n",
       "      <td>1</td>\n",
       "      <td>M</td>\n",
       "      <td>39</td>\n",
       "      <td>0</td>\n",
       "      <td>0</td>\n",
       "      <td>1</td>\n",
       "      <td>0</td>\n",
       "      <td>0</td>\n",
       "      <td>1</td>\n",
       "    </tr>\n",
       "    <tr>\n",
       "      <th>2</th>\n",
       "      <td>93779</td>\n",
       "      <td>1</td>\n",
       "      <td>1</td>\n",
       "      <td>F</td>\n",
       "      <td>33</td>\n",
       "      <td>0</td>\n",
       "      <td>0</td>\n",
       "      <td>0</td>\n",
       "      <td>0</td>\n",
       "      <td>0</td>\n",
       "      <td>1</td>\n",
       "    </tr>\n",
       "    <tr>\n",
       "      <th>3</th>\n",
       "      <td>141724</td>\n",
       "      <td>1</td>\n",
       "      <td>1</td>\n",
       "      <td>M</td>\n",
       "      <td>12</td>\n",
       "      <td>0</td>\n",
       "      <td>0</td>\n",
       "      <td>0</td>\n",
       "      <td>0</td>\n",
       "      <td>0</td>\n",
       "      <td>1</td>\n",
       "    </tr>\n",
       "    <tr>\n",
       "      <th>4</th>\n",
       "      <td>537615</td>\n",
       "      <td>1</td>\n",
       "      <td>1</td>\n",
       "      <td>F</td>\n",
       "      <td>14</td>\n",
       "      <td>0</td>\n",
       "      <td>0</td>\n",
       "      <td>0</td>\n",
       "      <td>0</td>\n",
       "      <td>1</td>\n",
       "      <td>1</td>\n",
       "    </tr>\n",
       "    <tr>\n",
       "      <th>...</th>\n",
       "      <td>...</td>\n",
       "      <td>...</td>\n",
       "      <td>...</td>\n",
       "      <td>...</td>\n",
       "      <td>...</td>\n",
       "      <td>...</td>\n",
       "      <td>...</td>\n",
       "      <td>...</td>\n",
       "      <td>...</td>\n",
       "      <td>...</td>\n",
       "      <td>...</td>\n",
       "    </tr>\n",
       "    <tr>\n",
       "      <th>110517</th>\n",
       "      <td>999931985292928</td>\n",
       "      <td>5</td>\n",
       "      <td>5</td>\n",
       "      <td>M</td>\n",
       "      <td>90</td>\n",
       "      <td>0</td>\n",
       "      <td>0</td>\n",
       "      <td>0</td>\n",
       "      <td>0</td>\n",
       "      <td>0</td>\n",
       "      <td>1</td>\n",
       "    </tr>\n",
       "    <tr>\n",
       "      <th>110522</th>\n",
       "      <td>999934989273974</td>\n",
       "      <td>1</td>\n",
       "      <td>1</td>\n",
       "      <td>M</td>\n",
       "      <td>5</td>\n",
       "      <td>0</td>\n",
       "      <td>0</td>\n",
       "      <td>0</td>\n",
       "      <td>0</td>\n",
       "      <td>0</td>\n",
       "      <td>1</td>\n",
       "    </tr>\n",
       "    <tr>\n",
       "      <th>110523</th>\n",
       "      <td>999946536742891</td>\n",
       "      <td>1</td>\n",
       "      <td>1</td>\n",
       "      <td>M</td>\n",
       "      <td>65</td>\n",
       "      <td>1</td>\n",
       "      <td>1</td>\n",
       "      <td>0</td>\n",
       "      <td>0</td>\n",
       "      <td>0</td>\n",
       "      <td>1</td>\n",
       "    </tr>\n",
       "    <tr>\n",
       "      <th>110524</th>\n",
       "      <td>999968578354866</td>\n",
       "      <td>1</td>\n",
       "      <td>1</td>\n",
       "      <td>F</td>\n",
       "      <td>81</td>\n",
       "      <td>0</td>\n",
       "      <td>0</td>\n",
       "      <td>0</td>\n",
       "      <td>0</td>\n",
       "      <td>0</td>\n",
       "      <td>1</td>\n",
       "    </tr>\n",
       "    <tr>\n",
       "      <th>110525</th>\n",
       "      <td>999981631772427</td>\n",
       "      <td>1</td>\n",
       "      <td>1</td>\n",
       "      <td>F</td>\n",
       "      <td>1</td>\n",
       "      <td>0</td>\n",
       "      <td>0</td>\n",
       "      <td>0</td>\n",
       "      <td>0</td>\n",
       "      <td>0</td>\n",
       "      <td>1</td>\n",
       "    </tr>\n",
       "  </tbody>\n",
       "</table>\n",
       "<p>62298 rows × 11 columns</p>\n",
       "</div>"
      ],
      "text/plain": [
       "                patient  num_appts  num_shows sex  age  bolsa  hypert  \\\n",
       "0                 39217          1          1   F   44      0       0   \n",
       "1                 43741          1          1   M   39      0       0   \n",
       "2                 93779          1          1   F   33      0       0   \n",
       "3                141724          1          1   M   12      0       0   \n",
       "4                537615          1          1   F   14      0       0   \n",
       "...                 ...        ...        ...  ..  ...    ...     ...   \n",
       "110517  999931985292928          5          5   M   90      0       0   \n",
       "110522  999934989273974          1          1   M    5      0       0   \n",
       "110523  999946536742891          1          1   M   65      1       1   \n",
       "110524  999968578354866          1          1   F   81      0       0   \n",
       "110525  999981631772427          1          1   F    1      0       0   \n",
       "\n",
       "        diabetic  alcoholic  handicap  show  \n",
       "0              0          0         0     1  \n",
       "1              1          0         0     1  \n",
       "2              0          0         0     1  \n",
       "3              0          0         0     1  \n",
       "4              0          0         1     1  \n",
       "...          ...        ...       ...   ...  \n",
       "110517         0          0         0     1  \n",
       "110522         0          0         0     1  \n",
       "110523         0          0         0     1  \n",
       "110524         0          0         0     1  \n",
       "110525         0          0         0     1  \n",
       "\n",
       "[62298 rows x 11 columns]"
      ]
     },
     "execution_count": 28,
     "metadata": {},
     "output_type": "execute_result"
    }
   ],
   "source": [
    "df_patient=pd.merge(df_patient_23,df_patient_1,left_on='patient',right_on='patient',how='inner')\n",
    "df_patient.drop_duplicates(subset='patient', inplace=True)\n",
    "df_patient"
   ]
  },
  {
   "cell_type": "code",
   "execution_count": 29,
   "id": "eaa17235",
   "metadata": {},
   "outputs": [
    {
     "data": {
      "text/html": [
       "<div>\n",
       "<style scoped>\n",
       "    .dataframe tbody tr th:only-of-type {\n",
       "        vertical-align: middle;\n",
       "    }\n",
       "\n",
       "    .dataframe tbody tr th {\n",
       "        vertical-align: top;\n",
       "    }\n",
       "\n",
       "    .dataframe thead th {\n",
       "        text-align: right;\n",
       "    }\n",
       "</style>\n",
       "<table border=\"1\" class=\"dataframe\">\n",
       "  <thead>\n",
       "    <tr style=\"text-align: right;\">\n",
       "      <th></th>\n",
       "      <th>patient</th>\n",
       "      <th>num_appts</th>\n",
       "      <th>num_shows</th>\n",
       "      <th>sex</th>\n",
       "      <th>age</th>\n",
       "      <th>bolsa</th>\n",
       "      <th>hypert</th>\n",
       "      <th>diabetic</th>\n",
       "      <th>alcoholic</th>\n",
       "      <th>handicap</th>\n",
       "      <th>show</th>\n",
       "      <th>num_diseases</th>\n",
       "    </tr>\n",
       "  </thead>\n",
       "  <tbody>\n",
       "    <tr>\n",
       "      <th>0</th>\n",
       "      <td>39217</td>\n",
       "      <td>1</td>\n",
       "      <td>1</td>\n",
       "      <td>F</td>\n",
       "      <td>44</td>\n",
       "      <td>0</td>\n",
       "      <td>0</td>\n",
       "      <td>0</td>\n",
       "      <td>0</td>\n",
       "      <td>0</td>\n",
       "      <td>1</td>\n",
       "      <td>0</td>\n",
       "    </tr>\n",
       "    <tr>\n",
       "      <th>1</th>\n",
       "      <td>43741</td>\n",
       "      <td>1</td>\n",
       "      <td>1</td>\n",
       "      <td>M</td>\n",
       "      <td>39</td>\n",
       "      <td>0</td>\n",
       "      <td>0</td>\n",
       "      <td>1</td>\n",
       "      <td>0</td>\n",
       "      <td>0</td>\n",
       "      <td>1</td>\n",
       "      <td>1</td>\n",
       "    </tr>\n",
       "    <tr>\n",
       "      <th>2</th>\n",
       "      <td>93779</td>\n",
       "      <td>1</td>\n",
       "      <td>1</td>\n",
       "      <td>F</td>\n",
       "      <td>33</td>\n",
       "      <td>0</td>\n",
       "      <td>0</td>\n",
       "      <td>0</td>\n",
       "      <td>0</td>\n",
       "      <td>0</td>\n",
       "      <td>1</td>\n",
       "      <td>0</td>\n",
       "    </tr>\n",
       "    <tr>\n",
       "      <th>3</th>\n",
       "      <td>141724</td>\n",
       "      <td>1</td>\n",
       "      <td>1</td>\n",
       "      <td>M</td>\n",
       "      <td>12</td>\n",
       "      <td>0</td>\n",
       "      <td>0</td>\n",
       "      <td>0</td>\n",
       "      <td>0</td>\n",
       "      <td>0</td>\n",
       "      <td>1</td>\n",
       "      <td>0</td>\n",
       "    </tr>\n",
       "    <tr>\n",
       "      <th>4</th>\n",
       "      <td>537615</td>\n",
       "      <td>1</td>\n",
       "      <td>1</td>\n",
       "      <td>F</td>\n",
       "      <td>14</td>\n",
       "      <td>0</td>\n",
       "      <td>0</td>\n",
       "      <td>0</td>\n",
       "      <td>0</td>\n",
       "      <td>1</td>\n",
       "      <td>1</td>\n",
       "      <td>1</td>\n",
       "    </tr>\n",
       "    <tr>\n",
       "      <th>...</th>\n",
       "      <td>...</td>\n",
       "      <td>...</td>\n",
       "      <td>...</td>\n",
       "      <td>...</td>\n",
       "      <td>...</td>\n",
       "      <td>...</td>\n",
       "      <td>...</td>\n",
       "      <td>...</td>\n",
       "      <td>...</td>\n",
       "      <td>...</td>\n",
       "      <td>...</td>\n",
       "      <td>...</td>\n",
       "    </tr>\n",
       "    <tr>\n",
       "      <th>110517</th>\n",
       "      <td>999931985292928</td>\n",
       "      <td>5</td>\n",
       "      <td>5</td>\n",
       "      <td>M</td>\n",
       "      <td>90</td>\n",
       "      <td>0</td>\n",
       "      <td>0</td>\n",
       "      <td>0</td>\n",
       "      <td>0</td>\n",
       "      <td>0</td>\n",
       "      <td>1</td>\n",
       "      <td>0</td>\n",
       "    </tr>\n",
       "    <tr>\n",
       "      <th>110522</th>\n",
       "      <td>999934989273974</td>\n",
       "      <td>1</td>\n",
       "      <td>1</td>\n",
       "      <td>M</td>\n",
       "      <td>5</td>\n",
       "      <td>0</td>\n",
       "      <td>0</td>\n",
       "      <td>0</td>\n",
       "      <td>0</td>\n",
       "      <td>0</td>\n",
       "      <td>1</td>\n",
       "      <td>0</td>\n",
       "    </tr>\n",
       "    <tr>\n",
       "      <th>110523</th>\n",
       "      <td>999946536742891</td>\n",
       "      <td>1</td>\n",
       "      <td>1</td>\n",
       "      <td>M</td>\n",
       "      <td>65</td>\n",
       "      <td>1</td>\n",
       "      <td>1</td>\n",
       "      <td>0</td>\n",
       "      <td>0</td>\n",
       "      <td>0</td>\n",
       "      <td>1</td>\n",
       "      <td>1</td>\n",
       "    </tr>\n",
       "    <tr>\n",
       "      <th>110524</th>\n",
       "      <td>999968578354866</td>\n",
       "      <td>1</td>\n",
       "      <td>1</td>\n",
       "      <td>F</td>\n",
       "      <td>81</td>\n",
       "      <td>0</td>\n",
       "      <td>0</td>\n",
       "      <td>0</td>\n",
       "      <td>0</td>\n",
       "      <td>0</td>\n",
       "      <td>1</td>\n",
       "      <td>0</td>\n",
       "    </tr>\n",
       "    <tr>\n",
       "      <th>110525</th>\n",
       "      <td>999981631772427</td>\n",
       "      <td>1</td>\n",
       "      <td>1</td>\n",
       "      <td>F</td>\n",
       "      <td>1</td>\n",
       "      <td>0</td>\n",
       "      <td>0</td>\n",
       "      <td>0</td>\n",
       "      <td>0</td>\n",
       "      <td>0</td>\n",
       "      <td>1</td>\n",
       "      <td>0</td>\n",
       "    </tr>\n",
       "  </tbody>\n",
       "</table>\n",
       "<p>62298 rows × 12 columns</p>\n",
       "</div>"
      ],
      "text/plain": [
       "                patient  num_appts  num_shows sex  age  bolsa  hypert  \\\n",
       "0                 39217          1          1   F   44      0       0   \n",
       "1                 43741          1          1   M   39      0       0   \n",
       "2                 93779          1          1   F   33      0       0   \n",
       "3                141724          1          1   M   12      0       0   \n",
       "4                537615          1          1   F   14      0       0   \n",
       "...                 ...        ...        ...  ..  ...    ...     ...   \n",
       "110517  999931985292928          5          5   M   90      0       0   \n",
       "110522  999934989273974          1          1   M    5      0       0   \n",
       "110523  999946536742891          1          1   M   65      1       1   \n",
       "110524  999968578354866          1          1   F   81      0       0   \n",
       "110525  999981631772427          1          1   F    1      0       0   \n",
       "\n",
       "        diabetic  alcoholic  handicap  show  num_diseases  \n",
       "0              0          0         0     1             0  \n",
       "1              1          0         0     1             1  \n",
       "2              0          0         0     1             0  \n",
       "3              0          0         0     1             0  \n",
       "4              0          0         1     1             1  \n",
       "...          ...        ...       ...   ...           ...  \n",
       "110517         0          0         0     1             0  \n",
       "110522         0          0         0     1             0  \n",
       "110523         0          0         0     1             1  \n",
       "110524         0          0         0     1             0  \n",
       "110525         0          0         0     1             0  \n",
       "\n",
       "[62298 rows x 12 columns]"
      ]
     },
     "execution_count": 29,
     "metadata": {},
     "output_type": "execute_result"
    }
   ],
   "source": [
    "df_patient['num_diseases']=df_patient.hypert+df_patient.diabetic+df_patient.alcoholic+df_patient.handicap\n",
    "df_patient"
   ]
  },
  {
   "cell_type": "code",
   "execution_count": 30,
   "id": "c21297f9",
   "metadata": {},
   "outputs": [
    {
     "data": {
      "text/plain": [
       "count    62298.000000\n",
       "mean         0.803567\n",
       "std          0.351421\n",
       "min          0.000000\n",
       "25%          0.666667\n",
       "50%          1.000000\n",
       "75%          1.000000\n",
       "max          1.000000\n",
       "Name: att_rate, dtype: float64"
      ]
     },
     "execution_count": 30,
     "metadata": {},
     "output_type": "execute_result"
    }
   ],
   "source": [
    "df_patient['att_rate']=df_patient['num_shows']/df_patient['num_appts']\n",
    "df_patient['att_rate'].describe()"
   ]
  },
  {
   "cell_type": "code",
   "execution_count": 31,
   "id": "00f2a838",
   "metadata": {},
   "outputs": [
    {
     "data": {
      "text/plain": [
       "0"
      ]
     },
     "execution_count": 31,
     "metadata": {},
     "output_type": "execute_result"
    }
   ],
   "source": [
    "df_patient.duplicated().sum()"
   ]
  },
  {
   "cell_type": "code",
   "execution_count": 32,
   "id": "658f8e6d",
   "metadata": {},
   "outputs": [],
   "source": [
    "# Save the cleaned patient dataset to HDF5 file\n",
    "\n",
    "df_patient.to_hdf('patient_db_cleaned.h5',key='df_patient',index=False)"
   ]
  },
  {
   "cell_type": "markdown",
   "id": "2e1df383",
   "metadata": {},
   "source": [
    "<a id='monov'></a>\n",
    "## Monovariate Analysis\n",
    "\n",
    "<a id='fullexp'></a>\n",
    "### Exploring the full dataset"
   ]
  },
  {
   "cell_type": "code",
   "execution_count": 33,
   "id": "51ab06e4",
   "metadata": {},
   "outputs": [
    {
     "data": {
      "text/html": [
       "<div>\n",
       "<style scoped>\n",
       "    .dataframe tbody tr th:only-of-type {\n",
       "        vertical-align: middle;\n",
       "    }\n",
       "\n",
       "    .dataframe tbody tr th {\n",
       "        vertical-align: top;\n",
       "    }\n",
       "\n",
       "    .dataframe thead th {\n",
       "        text-align: right;\n",
       "    }\n",
       "</style>\n",
       "<table border=\"1\" class=\"dataframe\">\n",
       "  <thead>\n",
       "    <tr style=\"text-align: right;\">\n",
       "      <th></th>\n",
       "      <th>patient</th>\n",
       "      <th>appt</th>\n",
       "      <th>age</th>\n",
       "      <th>bolsa</th>\n",
       "      <th>hypert</th>\n",
       "      <th>diabetic</th>\n",
       "      <th>alcoholic</th>\n",
       "      <th>sms</th>\n",
       "      <th>handicap</th>\n",
       "      <th>show</th>\n",
       "    </tr>\n",
       "  </thead>\n",
       "  <tbody>\n",
       "    <tr>\n",
       "      <th>count</th>\n",
       "      <td>1.105260e+05</td>\n",
       "      <td>1.105260e+05</td>\n",
       "      <td>110526.000000</td>\n",
       "      <td>110526.000000</td>\n",
       "      <td>110526.000000</td>\n",
       "      <td>110526.000000</td>\n",
       "      <td>110526.000000</td>\n",
       "      <td>110526.000000</td>\n",
       "      <td>110526.000000</td>\n",
       "      <td>110526.000000</td>\n",
       "    </tr>\n",
       "    <tr>\n",
       "      <th>mean</th>\n",
       "      <td>1.474934e+14</td>\n",
       "      <td>5.675304e+06</td>\n",
       "      <td>37.089219</td>\n",
       "      <td>0.098266</td>\n",
       "      <td>0.197248</td>\n",
       "      <td>0.071865</td>\n",
       "      <td>0.030400</td>\n",
       "      <td>0.022248</td>\n",
       "      <td>0.321029</td>\n",
       "      <td>0.798066</td>\n",
       "    </tr>\n",
       "    <tr>\n",
       "      <th>std</th>\n",
       "      <td>2.560943e+14</td>\n",
       "      <td>7.129544e+04</td>\n",
       "      <td>23.110026</td>\n",
       "      <td>0.297676</td>\n",
       "      <td>0.397923</td>\n",
       "      <td>0.258266</td>\n",
       "      <td>0.171686</td>\n",
       "      <td>0.161543</td>\n",
       "      <td>0.466874</td>\n",
       "      <td>0.401445</td>\n",
       "    </tr>\n",
       "    <tr>\n",
       "      <th>min</th>\n",
       "      <td>3.921700e+04</td>\n",
       "      <td>5.030230e+06</td>\n",
       "      <td>0.000000</td>\n",
       "      <td>0.000000</td>\n",
       "      <td>0.000000</td>\n",
       "      <td>0.000000</td>\n",
       "      <td>0.000000</td>\n",
       "      <td>0.000000</td>\n",
       "      <td>0.000000</td>\n",
       "      <td>0.000000</td>\n",
       "    </tr>\n",
       "    <tr>\n",
       "      <th>25%</th>\n",
       "      <td>4.172536e+12</td>\n",
       "      <td>5.640285e+06</td>\n",
       "      <td>18.000000</td>\n",
       "      <td>0.000000</td>\n",
       "      <td>0.000000</td>\n",
       "      <td>0.000000</td>\n",
       "      <td>0.000000</td>\n",
       "      <td>0.000000</td>\n",
       "      <td>0.000000</td>\n",
       "      <td>1.000000</td>\n",
       "    </tr>\n",
       "    <tr>\n",
       "      <th>50%</th>\n",
       "      <td>3.173184e+13</td>\n",
       "      <td>5.680572e+06</td>\n",
       "      <td>37.000000</td>\n",
       "      <td>0.000000</td>\n",
       "      <td>0.000000</td>\n",
       "      <td>0.000000</td>\n",
       "      <td>0.000000</td>\n",
       "      <td>0.000000</td>\n",
       "      <td>0.000000</td>\n",
       "      <td>1.000000</td>\n",
       "    </tr>\n",
       "    <tr>\n",
       "      <th>75%</th>\n",
       "      <td>9.438963e+13</td>\n",
       "      <td>5.725523e+06</td>\n",
       "      <td>55.000000</td>\n",
       "      <td>0.000000</td>\n",
       "      <td>0.000000</td>\n",
       "      <td>0.000000</td>\n",
       "      <td>0.000000</td>\n",
       "      <td>0.000000</td>\n",
       "      <td>1.000000</td>\n",
       "      <td>1.000000</td>\n",
       "    </tr>\n",
       "    <tr>\n",
       "      <th>max</th>\n",
       "      <td>9.999816e+14</td>\n",
       "      <td>5.790484e+06</td>\n",
       "      <td>115.000000</td>\n",
       "      <td>1.000000</td>\n",
       "      <td>1.000000</td>\n",
       "      <td>1.000000</td>\n",
       "      <td>1.000000</td>\n",
       "      <td>4.000000</td>\n",
       "      <td>1.000000</td>\n",
       "      <td>1.000000</td>\n",
       "    </tr>\n",
       "  </tbody>\n",
       "</table>\n",
       "</div>"
      ],
      "text/plain": [
       "            patient          appt            age          bolsa  \\\n",
       "count  1.105260e+05  1.105260e+05  110526.000000  110526.000000   \n",
       "mean   1.474934e+14  5.675304e+06      37.089219       0.098266   \n",
       "std    2.560943e+14  7.129544e+04      23.110026       0.297676   \n",
       "min    3.921700e+04  5.030230e+06       0.000000       0.000000   \n",
       "25%    4.172536e+12  5.640285e+06      18.000000       0.000000   \n",
       "50%    3.173184e+13  5.680572e+06      37.000000       0.000000   \n",
       "75%    9.438963e+13  5.725523e+06      55.000000       0.000000   \n",
       "max    9.999816e+14  5.790484e+06     115.000000       1.000000   \n",
       "\n",
       "              hypert       diabetic      alcoholic            sms  \\\n",
       "count  110526.000000  110526.000000  110526.000000  110526.000000   \n",
       "mean        0.197248       0.071865       0.030400       0.022248   \n",
       "std         0.397923       0.258266       0.171686       0.161543   \n",
       "min         0.000000       0.000000       0.000000       0.000000   \n",
       "25%         0.000000       0.000000       0.000000       0.000000   \n",
       "50%         0.000000       0.000000       0.000000       0.000000   \n",
       "75%         0.000000       0.000000       0.000000       0.000000   \n",
       "max         1.000000       1.000000       1.000000       4.000000   \n",
       "\n",
       "            handicap           show  \n",
       "count  110526.000000  110526.000000  \n",
       "mean        0.321029       0.798066  \n",
       "std         0.466874       0.401445  \n",
       "min         0.000000       0.000000  \n",
       "25%         0.000000       1.000000  \n",
       "50%         0.000000       1.000000  \n",
       "75%         1.000000       1.000000  \n",
       "max         1.000000       1.000000  "
      ]
     },
     "execution_count": 33,
     "metadata": {},
     "output_type": "execute_result"
    }
   ],
   "source": [
    "df.describe()"
   ]
  },
  {
   "cell_type": "code",
   "execution_count": 34,
   "id": "4c7649cc",
   "metadata": {},
   "outputs": [
    {
     "data": {
      "text/html": [
       "<div>\n",
       "<style scoped>\n",
       "    .dataframe tbody tr th:only-of-type {\n",
       "        vertical-align: middle;\n",
       "    }\n",
       "\n",
       "    .dataframe tbody tr th {\n",
       "        vertical-align: top;\n",
       "    }\n",
       "\n",
       "    .dataframe thead th {\n",
       "        text-align: right;\n",
       "    }\n",
       "</style>\n",
       "<table border=\"1\" class=\"dataframe\">\n",
       "  <thead>\n",
       "    <tr style=\"text-align: right;\">\n",
       "      <th></th>\n",
       "      <th>patient</th>\n",
       "      <th>num_appts</th>\n",
       "      <th>num_shows</th>\n",
       "      <th>age</th>\n",
       "      <th>bolsa</th>\n",
       "      <th>hypert</th>\n",
       "      <th>diabetic</th>\n",
       "      <th>alcoholic</th>\n",
       "      <th>handicap</th>\n",
       "      <th>show</th>\n",
       "      <th>num_diseases</th>\n",
       "      <th>att_rate</th>\n",
       "    </tr>\n",
       "  </thead>\n",
       "  <tbody>\n",
       "    <tr>\n",
       "      <th>count</th>\n",
       "      <td>6.229800e+04</td>\n",
       "      <td>62298.000000</td>\n",
       "      <td>62298.000000</td>\n",
       "      <td>62298.000000</td>\n",
       "      <td>62298.000000</td>\n",
       "      <td>62298.000000</td>\n",
       "      <td>62298.000000</td>\n",
       "      <td>62298.000000</td>\n",
       "      <td>62298.000000</td>\n",
       "      <td>62298.000000</td>\n",
       "      <td>62298.000000</td>\n",
       "      <td>62298.000000</td>\n",
       "    </tr>\n",
       "    <tr>\n",
       "      <th>mean</th>\n",
       "      <td>1.471660e+14</td>\n",
       "      <td>1.774150</td>\n",
       "      <td>1.415888</td>\n",
       "      <td>36.705496</td>\n",
       "      <td>0.092908</td>\n",
       "      <td>0.196507</td>\n",
       "      <td>0.070885</td>\n",
       "      <td>0.024174</td>\n",
       "      <td>0.327362</td>\n",
       "      <td>0.804279</td>\n",
       "      <td>0.618928</td>\n",
       "      <td>0.803567</td>\n",
       "    </tr>\n",
       "    <tr>\n",
       "      <th>std</th>\n",
       "      <td>2.549080e+14</td>\n",
       "      <td>1.770336</td>\n",
       "      <td>1.623492</td>\n",
       "      <td>23.531076</td>\n",
       "      <td>0.290306</td>\n",
       "      <td>0.397360</td>\n",
       "      <td>0.256635</td>\n",
       "      <td>0.153591</td>\n",
       "      <td>0.469254</td>\n",
       "      <td>0.396758</td>\n",
       "      <td>0.747119</td>\n",
       "      <td>0.351421</td>\n",
       "    </tr>\n",
       "    <tr>\n",
       "      <th>min</th>\n",
       "      <td>3.921700e+04</td>\n",
       "      <td>1.000000</td>\n",
       "      <td>0.000000</td>\n",
       "      <td>0.000000</td>\n",
       "      <td>0.000000</td>\n",
       "      <td>0.000000</td>\n",
       "      <td>0.000000</td>\n",
       "      <td>0.000000</td>\n",
       "      <td>0.000000</td>\n",
       "      <td>0.000000</td>\n",
       "      <td>0.000000</td>\n",
       "      <td>0.000000</td>\n",
       "    </tr>\n",
       "    <tr>\n",
       "      <th>25%</th>\n",
       "      <td>4.176935e+12</td>\n",
       "      <td>1.000000</td>\n",
       "      <td>1.000000</td>\n",
       "      <td>17.000000</td>\n",
       "      <td>0.000000</td>\n",
       "      <td>0.000000</td>\n",
       "      <td>0.000000</td>\n",
       "      <td>0.000000</td>\n",
       "      <td>0.000000</td>\n",
       "      <td>1.000000</td>\n",
       "      <td>0.000000</td>\n",
       "      <td>0.666667</td>\n",
       "    </tr>\n",
       "    <tr>\n",
       "      <th>50%</th>\n",
       "      <td>3.198294e+13</td>\n",
       "      <td>1.000000</td>\n",
       "      <td>1.000000</td>\n",
       "      <td>36.000000</td>\n",
       "      <td>0.000000</td>\n",
       "      <td>0.000000</td>\n",
       "      <td>0.000000</td>\n",
       "      <td>0.000000</td>\n",
       "      <td>0.000000</td>\n",
       "      <td>1.000000</td>\n",
       "      <td>0.000000</td>\n",
       "      <td>1.000000</td>\n",
       "    </tr>\n",
       "    <tr>\n",
       "      <th>75%</th>\n",
       "      <td>9.484763e+13</td>\n",
       "      <td>2.000000</td>\n",
       "      <td>2.000000</td>\n",
       "      <td>56.000000</td>\n",
       "      <td>0.000000</td>\n",
       "      <td>0.000000</td>\n",
       "      <td>0.000000</td>\n",
       "      <td>0.000000</td>\n",
       "      <td>1.000000</td>\n",
       "      <td>1.000000</td>\n",
       "      <td>1.000000</td>\n",
       "      <td>1.000000</td>\n",
       "    </tr>\n",
       "    <tr>\n",
       "      <th>max</th>\n",
       "      <td>9.999816e+14</td>\n",
       "      <td>88.000000</td>\n",
       "      <td>87.000000</td>\n",
       "      <td>115.000000</td>\n",
       "      <td>1.000000</td>\n",
       "      <td>1.000000</td>\n",
       "      <td>1.000000</td>\n",
       "      <td>1.000000</td>\n",
       "      <td>1.000000</td>\n",
       "      <td>1.000000</td>\n",
       "      <td>4.000000</td>\n",
       "      <td>1.000000</td>\n",
       "    </tr>\n",
       "  </tbody>\n",
       "</table>\n",
       "</div>"
      ],
      "text/plain": [
       "            patient     num_appts     num_shows           age         bolsa  \\\n",
       "count  6.229800e+04  62298.000000  62298.000000  62298.000000  62298.000000   \n",
       "mean   1.471660e+14      1.774150      1.415888     36.705496      0.092908   \n",
       "std    2.549080e+14      1.770336      1.623492     23.531076      0.290306   \n",
       "min    3.921700e+04      1.000000      0.000000      0.000000      0.000000   \n",
       "25%    4.176935e+12      1.000000      1.000000     17.000000      0.000000   \n",
       "50%    3.198294e+13      1.000000      1.000000     36.000000      0.000000   \n",
       "75%    9.484763e+13      2.000000      2.000000     56.000000      0.000000   \n",
       "max    9.999816e+14     88.000000     87.000000    115.000000      1.000000   \n",
       "\n",
       "             hypert      diabetic     alcoholic      handicap          show  \\\n",
       "count  62298.000000  62298.000000  62298.000000  62298.000000  62298.000000   \n",
       "mean       0.196507      0.070885      0.024174      0.327362      0.804279   \n",
       "std        0.397360      0.256635      0.153591      0.469254      0.396758   \n",
       "min        0.000000      0.000000      0.000000      0.000000      0.000000   \n",
       "25%        0.000000      0.000000      0.000000      0.000000      1.000000   \n",
       "50%        0.000000      0.000000      0.000000      0.000000      1.000000   \n",
       "75%        0.000000      0.000000      0.000000      1.000000      1.000000   \n",
       "max        1.000000      1.000000      1.000000      1.000000      1.000000   \n",
       "\n",
       "       num_diseases      att_rate  \n",
       "count  62298.000000  62298.000000  \n",
       "mean       0.618928      0.803567  \n",
       "std        0.747119      0.351421  \n",
       "min        0.000000      0.000000  \n",
       "25%        0.000000      0.666667  \n",
       "50%        0.000000      1.000000  \n",
       "75%        1.000000      1.000000  \n",
       "max        4.000000      1.000000  "
      ]
     },
     "execution_count": 34,
     "metadata": {},
     "output_type": "execute_result"
    }
   ],
   "source": [
    "df_patient.describe()"
   ]
  },
  {
   "cell_type": "code",
   "execution_count": 35,
   "id": "7dfebe43",
   "metadata": {},
   "outputs": [
    {
     "data": {
      "text/html": [
       "<div>\n",
       "<style scoped>\n",
       "    .dataframe tbody tr th:only-of-type {\n",
       "        vertical-align: middle;\n",
       "    }\n",
       "\n",
       "    .dataframe tbody tr th {\n",
       "        vertical-align: top;\n",
       "    }\n",
       "\n",
       "    .dataframe thead th {\n",
       "        text-align: right;\n",
       "    }\n",
       "</style>\n",
       "<table border=\"1\" class=\"dataframe\">\n",
       "  <thead>\n",
       "    <tr style=\"text-align: right;\">\n",
       "      <th></th>\n",
       "      <th>sex</th>\n",
       "      <th>scd_datetime</th>\n",
       "      <th>appt_datetime</th>\n",
       "      <th>age</th>\n",
       "      <th>area</th>\n",
       "      <th>bolsa</th>\n",
       "      <th>hypert</th>\n",
       "      <th>diabetic</th>\n",
       "      <th>alcoholic</th>\n",
       "      <th>sms</th>\n",
       "      <th>handicap</th>\n",
       "      <th>show</th>\n",
       "    </tr>\n",
       "  </thead>\n",
       "  <tbody>\n",
       "    <tr>\n",
       "      <th>0</th>\n",
       "      <td>F</td>\n",
       "      <td>2016-04-29 18:38:08</td>\n",
       "      <td>2016-04-29</td>\n",
       "      <td>62</td>\n",
       "      <td>JARDIM DA PENHA</td>\n",
       "      <td>0</td>\n",
       "      <td>1</td>\n",
       "      <td>0</td>\n",
       "      <td>0</td>\n",
       "      <td>0</td>\n",
       "      <td>0</td>\n",
       "      <td>1</td>\n",
       "    </tr>\n",
       "    <tr>\n",
       "      <th>1</th>\n",
       "      <td>M</td>\n",
       "      <td>2016-04-29 16:08:27</td>\n",
       "      <td>2016-04-29</td>\n",
       "      <td>56</td>\n",
       "      <td>JARDIM DA PENHA</td>\n",
       "      <td>0</td>\n",
       "      <td>0</td>\n",
       "      <td>0</td>\n",
       "      <td>0</td>\n",
       "      <td>0</td>\n",
       "      <td>0</td>\n",
       "      <td>1</td>\n",
       "    </tr>\n",
       "    <tr>\n",
       "      <th>2</th>\n",
       "      <td>F</td>\n",
       "      <td>2016-04-29 16:19:04</td>\n",
       "      <td>2016-04-29</td>\n",
       "      <td>62</td>\n",
       "      <td>MATA DA PRAIA</td>\n",
       "      <td>0</td>\n",
       "      <td>0</td>\n",
       "      <td>0</td>\n",
       "      <td>0</td>\n",
       "      <td>0</td>\n",
       "      <td>0</td>\n",
       "      <td>1</td>\n",
       "    </tr>\n",
       "    <tr>\n",
       "      <th>3</th>\n",
       "      <td>F</td>\n",
       "      <td>2016-04-29 17:29:31</td>\n",
       "      <td>2016-04-29</td>\n",
       "      <td>8</td>\n",
       "      <td>PONTAL DE CAMBURI</td>\n",
       "      <td>0</td>\n",
       "      <td>0</td>\n",
       "      <td>0</td>\n",
       "      <td>0</td>\n",
       "      <td>0</td>\n",
       "      <td>0</td>\n",
       "      <td>1</td>\n",
       "    </tr>\n",
       "    <tr>\n",
       "      <th>4</th>\n",
       "      <td>F</td>\n",
       "      <td>2016-04-29 16:07:23</td>\n",
       "      <td>2016-04-29</td>\n",
       "      <td>56</td>\n",
       "      <td>JARDIM DA PENHA</td>\n",
       "      <td>0</td>\n",
       "      <td>1</td>\n",
       "      <td>1</td>\n",
       "      <td>0</td>\n",
       "      <td>0</td>\n",
       "      <td>0</td>\n",
       "      <td>1</td>\n",
       "    </tr>\n",
       "  </tbody>\n",
       "</table>\n",
       "</div>"
      ],
      "text/plain": [
       "  sex        scd_datetime appt_datetime  age               area  bolsa  \\\n",
       "0   F 2016-04-29 18:38:08    2016-04-29   62    JARDIM DA PENHA      0   \n",
       "1   M 2016-04-29 16:08:27    2016-04-29   56    JARDIM DA PENHA      0   \n",
       "2   F 2016-04-29 16:19:04    2016-04-29   62      MATA DA PRAIA      0   \n",
       "3   F 2016-04-29 17:29:31    2016-04-29    8  PONTAL DE CAMBURI      0   \n",
       "4   F 2016-04-29 16:07:23    2016-04-29   56    JARDIM DA PENHA      0   \n",
       "\n",
       "   hypert  diabetic  alcoholic  sms  handicap  show  \n",
       "0       1         0          0    0         0     1  \n",
       "1       0         0          0    0         0     1  \n",
       "2       0         0          0    0         0     1  \n",
       "3       0         0          0    0         0     1  \n",
       "4       1         1          0    0         0     1  "
      ]
     },
     "execution_count": 35,
     "metadata": {},
     "output_type": "execute_result"
    }
   ],
   "source": [
    "df.iloc[:,2:].head()"
   ]
  },
  {
   "cell_type": "code",
   "execution_count": 36,
   "id": "cf67107d",
   "metadata": {},
   "outputs": [
    {
     "data": {
      "image/png": "[encoded data removed]",
      "text/plain": [
       "<Figure size 1440x720 with 12 Axes>"
      ]
     },
     "metadata": {},
     "output_type": "display_data"
    }
   ],
   "source": [
    "# Plotting the histograms for all the variables in the full dataset excluding the patient and appointment IDs\n",
    "\n",
    "df.iloc[:,2:].hist(figsize=(20,10));"
   ]
  },
  {
   "cell_type": "code",
   "execution_count": 37,
   "id": "68f65e1e",
   "metadata": {},
   "outputs": [
    {
     "data": {
      "image/png": "[encoded data removed]",
      "text/plain": [
       "<Figure size 720x360 with 1 Axes>"
      ]
     },
     "metadata": {},
     "output_type": "display_data"
    }
   ],
   "source": [
    "df.sex.value_counts().plot(kind='bar');"
   ]
  },
  {
   "cell_type": "markdown",
   "id": "673f9cd5",
   "metadata": {},
   "source": [
    "The schedule dates distribution is skewed to the left, showing that most appointment requests were made between April and June 2016. This may be indicative of seasonal illness such as the common flu, and such knowledge could be used to better allocate medical resources during those months of the year.It would also be interesting to superimpose the schedule date and appointment date distributions on top of one another.\n",
    "\n",
    "We also see that most appointments were made by people free from at least one of hypertension, diabeters, alcoholism, or a disability. It makes us wonder whether a patient who has a chronic illness or disability is more keen not to miss the doctor's appointment than a person who does not.\n",
    "\n",
    "Also, most appointments were made by people not enrolled in the social welfare program, and most appointment-goers are female.\n",
    "\n",
    "The SMS histogram shows that predominantly, no SMS reminders were sent prior to each appointment's due date. It would be interesting to explore whether the number of SMS reminders sent has any bearing on attendance rates."
   ]
  },
  {
   "cell_type": "code",
   "execution_count": 38,
   "id": "2f08aef3",
   "metadata": {},
   "outputs": [
    {
     "data": {
      "image/png": "[encoded data removed]",
      "text/plain": [
       "<Figure size 576x432 with 1 Axes>"
      ]
     },
     "metadata": {},
     "output_type": "display_data"
    }
   ],
   "source": [
    "fig,ax=plt.subplots(figsize=(8,6))\n",
    "ax.hist(df.scd_datetime,density=True,label='Schedule Dates',alpha=0.5)\n",
    "ax.hist(df.appt_datetime,density=True,label='Appointment Dates',alpha=0.5)\n",
    "ax.legend()\n",
    "ax.set_title('Schedule and Appointment Dates Distributions')\n",
    "ax.set_xlabel('Date')\n",
    "ax.set_ylabel('Density');"
   ]
  },
  {
   "cell_type": "markdown",
   "id": "85b806c4",
   "metadata": {},
   "source": [
    "This is interesting: Almost all of the appointment dates are due over the period May-June 2016, and hardly any appointments were given in the six-month window preceding May 2016. This does not have to be unreasonable as hospitals and clinics have probably been seeing patients in the period 11-2015 to 05-2015 but for appointments scheduled prior to the data collection. This means that some patients might have had to wait for 2-6 months for the nearest appointment. It will be insightful to see how long on average a new patient would have to wait for the nearest available appointment."
   ]
  },
  {
   "cell_type": "markdown",
   "id": "e495256e",
   "metadata": {},
   "source": [
    "<a id='patexp'></a>\n",
    "### Exploring the patient dataset"
   ]
  },
  {
   "cell_type": "code",
   "execution_count": 39,
   "id": "669a02f4",
   "metadata": {},
   "outputs": [
    {
     "data": {
      "image/png": "[encoded data removed]",
      "text/plain": [
       "<Figure size 1440x720 with 12 Axes>"
      ]
     },
     "metadata": {},
     "output_type": "display_data"
    }
   ],
   "source": [
    "# Plotting the histograms for all the variables in the patient dataset excluding the patient IDs\n",
    "df_patient.iloc[:,1:].hist(figsize=(20,10));"
   ]
  },
  {
   "cell_type": "markdown",
   "id": "e6409677",
   "metadata": {},
   "source": [
    "The number of shows is about the same as the number of appointments for most patients, resulting in the most predominant attendance rate being 90-100%. We are more interested in the characteristics of patients with low attendance rates. We will later section this dataframe by attendance rate and concentrate on patients with attendance rates less than 50%.\n",
    "\n",
    "In each of the histograms for hypertension, diabetes, alcoholism, and handicap, the number of people who are free from the illness is much higher than those who aren't. However, the histogram of the number of diseases shows that the number of people who suffer from at least one of these is almost equal to those who suffer from none. This is an insight that could not be gleaned by looking at each of the illness variables independently. It inspires the question of whether the attendance rate is correlated with the number of chronic diseases."
   ]
  },
  {
   "cell_type": "markdown",
   "id": "5d56e0d2",
   "metadata": {},
   "source": [
    "<a id='ques'></a>\n",
    "# Question(s) for Analysis\n",
    "\n",
    "Based on the initial exploration above:\n",
    "\n",
    "**Q1: Is a patient's attendance rate correlated positively with their number of chronic illnesses?**\n",
    "\n",
    "**Q2: Would sending more SMS reminders help improve the attendance rate?**\n",
    "\n",
    "**Q3: Do appointments made and scheduled on the same day (likely indicating an urgent medical situation) lead to greater chances of showing up compared to appointments made one or more days earlier?**\n",
    "\n",
    "**Q4: How long would a new patient have to wait on average for the next available appointment?**\n",
    "\n",
    "**Q5: What are the characteristics of patients with attendance rates less than 50%?**\n",
    "\n",
    "Other questions we could ask about the data:\n",
    "\n",
    "**Q6: Are certain age groups more likely than others to miss their appointments?**\n",
    "\n",
    "**Q7: Is the hospital location of any importance in predicting the possibility of a no-show?**"
   ]
  },
  {
   "cell_type": "markdown",
   "id": "7953b53e",
   "metadata": {},
   "source": [
    "<a id='eda'></a>\n",
    "# Exploratory Data Analysis"
   ]
  },
  {
   "cell_type": "markdown",
   "id": "aca345f4",
   "metadata": {},
   "source": [
    "<a id='q1'></a>\n",
    "## Q1: Relationship between number of chronic illnesses and attendance rate"
   ]
  },
  {
   "cell_type": "code",
   "execution_count": 40,
   "id": "275fe416",
   "metadata": {},
   "outputs": [
    {
     "data": {
      "text/plain": [
       "num_diseases\n",
       "0    0.829043\n",
       "1    0.763590\n",
       "2    0.815516\n",
       "3    0.811922\n",
       "4    0.773467\n",
       "Name: att_rate, dtype: float64"
      ]
     },
     "execution_count": 40,
     "metadata": {},
     "output_type": "execute_result"
    }
   ],
   "source": [
    "df_patient.groupby('num_diseases')['att_rate'].mean()"
   ]
  },
  {
   "cell_type": "code",
   "execution_count": 41,
   "id": "e86bacc9",
   "metadata": {},
   "outputs": [
    {
     "data": {
      "image/png": "[encoded data removed]",
      "text/plain": [
       "<Figure size 720x360 with 1 Axes>"
      ]
     },
     "metadata": {},
     "output_type": "display_data"
    }
   ],
   "source": [
    "y=df_patient.groupby('num_diseases')['att_rate'].mean()\n",
    "x=y.index\n",
    "\n",
    "plt.scatter(x,y)\n",
    "\n",
    "m, b = np.polyfit(x, y, 1)\n",
    "plt.plot(x, m*x + b,color='orange');\n",
    "plt.xlabel('Number of chronic illnesses')\n",
    "plt.ylabel('Mean Attendance Rate');\n",
    "plt.title('Mean Attendance Rate by Number of Chronic Illnesses');"
   ]
  },
  {
   "cell_type": "markdown",
   "id": "c9365ba9",
   "metadata": {},
   "source": [
    "This is a surprising and counter-intuitive result. It seems that patients with more chronic illnesses are more likely to miss their appointments."
   ]
  },
  {
   "cell_type": "markdown",
   "id": "83c130c3",
   "metadata": {},
   "source": [
    "<a id='q2'></a>\n",
    "## Q2: Relationship between number of SMS reminders and attendance rate"
   ]
  },
  {
   "cell_type": "code",
   "execution_count": 42,
   "id": "a00a9520",
   "metadata": {},
   "outputs": [
    {
     "data": {
      "image/png": "[encoded data removed]",
      "text/plain": [
       "<Figure size 720x360 with 1 Axes>"
      ]
     },
     "metadata": {},
     "output_type": "display_data"
    }
   ],
   "source": [
    "df.groupby('sms')['show'].mean().plot(kind='line');\n",
    "plt.title('Average Attendance Rate by No. of SMS Reminders',fontsize=14)\n",
    "plt.xlabel('Number of SMS Reminders',fontsize=12)\n",
    "plt.ylabel('Average Attendance Rate',fontsize=12);"
   ]
  },
  {
   "cell_type": "code",
   "execution_count": 43,
   "id": "449495d2",
   "metadata": {},
   "outputs": [
    {
     "data": {
      "text/plain": [
       "0.006076846582439198"
      ]
     },
     "execution_count": 43,
     "metadata": {},
     "output_type": "execute_result"
    }
   ],
   "source": [
    "df.corr()['sms']['show']"
   ]
  },
  {
   "cell_type": "markdown",
   "id": "ee9e8d92",
   "metadata": {},
   "source": [
    "From the line plot above, it seems that increasing the number of SMS reminders will not necessarily improve attendance. Sending one SMS reminder might have bumped up the average attendance rate by a mere 2%, and sending more than one SMS seems to have had a negative effect, which may be coincidental. "
   ]
  },
  {
   "cell_type": "markdown",
   "id": "808f5687",
   "metadata": {},
   "source": [
    "<a id='q3'></a>\n",
    "## Q3: Relationship between attendance rate and number of days an appointment is booked in advance"
   ]
  },
  {
   "cell_type": "code",
   "execution_count": 44,
   "id": "ef7a625b",
   "metadata": {},
   "outputs": [],
   "source": [
    "# Create a new column for the difference between the scheduling date and the appointment date\n",
    "\n",
    "df['days_diff']=(df['appt_datetime'].dt.date-df['scd_datetime'].dt.date).dt.days"
   ]
  },
  {
   "cell_type": "code",
   "execution_count": 45,
   "id": "61350de0",
   "metadata": {},
   "outputs": [
    {
     "data": {
      "text/plain": [
       "count    110526.000000\n",
       "mean         10.183794\n",
       "std          15.255034\n",
       "min          -6.000000\n",
       "25%           0.000000\n",
       "50%           4.000000\n",
       "75%          15.000000\n",
       "max         179.000000\n",
       "Name: days_diff, dtype: float64"
      ]
     },
     "execution_count": 45,
     "metadata": {},
     "output_type": "execute_result"
    }
   ],
   "source": [
    "# check for any negative date difference\n",
    "\n",
    "df.days_diff.describe()"
   ]
  },
  {
   "cell_type": "code",
   "execution_count": 46,
   "id": "c4298c4b",
   "metadata": {},
   "outputs": [],
   "source": [
    "# Inspect problematic rows where the appointment date precedes the schedule date\n",
    "idx=df[df.days_diff < 0].index"
   ]
  },
  {
   "cell_type": "code",
   "execution_count": 47,
   "id": "b35ce068",
   "metadata": {},
   "outputs": [],
   "source": [
    "# delete problematic rows\n",
    "df=df.drop(labels=idx,axis=0)"
   ]
  },
  {
   "cell_type": "code",
   "execution_count": 48,
   "id": "8ef0193a",
   "metadata": {},
   "outputs": [
    {
     "data": {
      "text/plain": [
       "0"
      ]
     },
     "execution_count": 48,
     "metadata": {},
     "output_type": "execute_result"
    }
   ],
   "source": [
    "# Check that the minimum number of days difference is 0\n",
    "df.days_diff.min()"
   ]
  },
  {
   "cell_type": "code",
   "execution_count": 49,
   "id": "2838b699",
   "metadata": {},
   "outputs": [
    {
     "data": {
      "image/png": "[encoded data removed]",
      "text/plain": [
       "<Figure size 720x360 with 1 Axes>"
      ]
     },
     "metadata": {},
     "output_type": "display_data"
    }
   ],
   "source": [
    "\n",
    "y=df.groupby('days_diff').mean()['show']\n",
    "x=y.index\n",
    "\n",
    "plt.scatter(x,y);\n",
    "\n",
    "plt.xlabel('Days Booked In Advance',fontsize=12)\n",
    "plt.ylabel('Mean Attendance Rate',fontsize=12)\n",
    "plt.title('Mean Attendance Rate vs. Days Booked In Advance',fontsize=14);"
   ]
  },
  {
   "cell_type": "markdown",
   "id": "9833c65e",
   "metadata": {},
   "source": [
    "The complexity of the figure above requires sectioning the plot into two more plots for appointments made fewer than 40 days in advance, and those made at least 40 days in advance:"
   ]
  },
  {
   "cell_type": "code",
   "execution_count": 50,
   "id": "a126a27d",
   "metadata": {},
   "outputs": [
    {
     "data": {
      "image/png": "[encoded data removed]",
      "text/plain": [
       "<Figure size 720x360 with 1 Axes>"
      ]
     },
     "metadata": {},
     "output_type": "display_data"
    }
   ],
   "source": [
    "mask_l40=df.days_diff<40\n",
    "\n",
    "mask_ge40=df.days_diff>=40\n",
    "\n",
    "y= df[mask_l40].groupby('days_diff').mean()['show']\n",
    "x=y.index\n",
    "\n",
    "plt.scatter(x,y);\n",
    "\n",
    "m,b = np.polyfit(x, y, 1)\n",
    "\n",
    "plt.plot(x, m*x+b,color='orange')\n",
    "\n",
    "plt.xlabel('Days Booked In Advance',fontsize=12)\n",
    "plt.ylabel('Mean Attendance Rate',fontsize=12)\n",
    "plt.title('Mean Attendance Rate vs. Days Booked <40 days In Advance',fontsize=14);"
   ]
  },
  {
   "cell_type": "markdown",
   "id": "061396ee",
   "metadata": {},
   "source": [
    "For appointments made 40 or fewer days in advance, appointments due on the same day they're made scheduled the highest attendance rate. Thereafter, people tend to miss their appointments the earlier they book it in advance."
   ]
  },
  {
   "cell_type": "code",
   "execution_count": 51,
   "id": "b13cfa48",
   "metadata": {},
   "outputs": [
    {
     "data": {
      "image/png": "[encoded data removed]",
      "text/plain": [
       "<Figure size 720x360 with 1 Axes>"
      ]
     },
     "metadata": {},
     "output_type": "display_data"
    }
   ],
   "source": [
    "y= df[mask_ge40].groupby('days_diff').mean()['show']\n",
    "\n",
    "x=y.index\n",
    "\n",
    "plt.scatter(x,y);\n",
    "\n",
    "m,b = np.polyfit(x, y, 1)\n",
    "\n",
    "plt.plot(x, m*x+b,color='red')\n",
    "\n",
    "plt.xlabel('Days Booked In Advance',fontsize=12)\n",
    "plt.ylabel('Mean Attendance Rate',fontsize=12)\n",
    "plt.title('Mean Attendance Rate vs. Days Booked >=40 days In Advance',fontsize=14);"
   ]
  },
  {
   "cell_type": "markdown",
   "id": "4cddac26",
   "metadata": {},
   "source": [
    "The line plot above for appointments made at least 40 days in advance does not show a clear pattern. We may need to inspect the correlation coefficient:"
   ]
  },
  {
   "cell_type": "code",
   "execution_count": 52,
   "id": "eaac55ee",
   "metadata": {},
   "outputs": [
    {
     "data": {
      "text/plain": [
       "-0.22910569083203663"
      ]
     },
     "execution_count": 52,
     "metadata": {},
     "output_type": "execute_result"
    }
   ],
   "source": [
    "df[mask_l40].corr()['show']['days_diff']\n"
   ]
  },
  {
   "cell_type": "code",
   "execution_count": 53,
   "id": "3439fe6e",
   "metadata": {},
   "outputs": [
    {
     "data": {
      "text/plain": [
       "0.04051146876258101"
      ]
     },
     "execution_count": 53,
     "metadata": {},
     "output_type": "execute_result"
    }
   ],
   "source": [
    "df[mask_ge40].corr()['show']['days_diff']"
   ]
  },
  {
   "cell_type": "markdown",
   "id": "14030f4a",
   "metadata": {},
   "source": [
    "The coefficients of correlation reveal that the attendance rate is correlated negatively - although weakly- with the number of days an appointment is booked in advance, if the appointment is booked fewer than 40 days in advance. However, if an appointment is booked 40 days or more in advance, it is difficult to predict whether or not the patient will show-up based on this information alone."
   ]
  },
  {
   "cell_type": "markdown",
   "id": "e3ceb098",
   "metadata": {},
   "source": [
    "<a id='q4'></a>\n",
    "## Q4: The average waiting time for the nearest appointment"
   ]
  },
  {
   "cell_type": "code",
   "execution_count": 54,
   "id": "cd4b8a66",
   "metadata": {},
   "outputs": [
    {
     "data": {
      "text/plain": [
       "count    110521.000000\n",
       "mean         10.184345\n",
       "std          15.255153\n",
       "min           0.000000\n",
       "25%           0.000000\n",
       "50%           4.000000\n",
       "75%          15.000000\n",
       "max         179.000000\n",
       "Name: days_diff, dtype: float64"
      ]
     },
     "execution_count": 54,
     "metadata": {},
     "output_type": "execute_result"
    }
   ],
   "source": [
    "df.days_diff.describe()"
   ]
  },
  {
   "cell_type": "code",
   "execution_count": 55,
   "id": "ab5926ae",
   "metadata": {},
   "outputs": [
    {
     "data": {
      "text/plain": [
       "<AxesSubplot:>"
      ]
     },
     "execution_count": 55,
     "metadata": {},
     "output_type": "execute_result"
    },
    {
     "data": {
      "image/png": "[encoded data removed]",
      "text/plain": [
       "<Figure size 720x360 with 1 Axes>"
      ]
     },
     "metadata": {},
     "output_type": "display_data"
    }
   ],
   "source": [
    "df.boxplot(column=['days_diff'])"
   ]
  },
  {
   "cell_type": "markdown",
   "id": "69b03278",
   "metadata": {},
   "source": [
    "The boxplot above for days waited to the next available appointment shows plenty of outliers. The median is probably a better representative of central tendency than the mean in this case.\n",
    "One could say that, on average, a new patient would wait 4 days till the next available appointment."
   ]
  },
  {
   "cell_type": "markdown",
   "id": "a4ffb166",
   "metadata": {},
   "source": [
    "<a id='q5'></a>\n",
    "## Q5: Characteristics of the patients with attendance rates < 50%"
   ]
  },
  {
   "cell_type": "code",
   "execution_count": 56,
   "id": "ce9c6d07",
   "metadata": {},
   "outputs": [
    {
     "data": {
      "text/html": [
       "<div>\n",
       "<style scoped>\n",
       "    .dataframe tbody tr th:only-of-type {\n",
       "        vertical-align: middle;\n",
       "    }\n",
       "\n",
       "    .dataframe tbody tr th {\n",
       "        vertical-align: top;\n",
       "    }\n",
       "\n",
       "    .dataframe thead th {\n",
       "        text-align: right;\n",
       "    }\n",
       "</style>\n",
       "<table border=\"1\" class=\"dataframe\">\n",
       "  <thead>\n",
       "    <tr style=\"text-align: right;\">\n",
       "      <th></th>\n",
       "      <th>patient</th>\n",
       "      <th>num_appts</th>\n",
       "      <th>num_shows</th>\n",
       "      <th>sex</th>\n",
       "      <th>age</th>\n",
       "      <th>bolsa</th>\n",
       "      <th>hypert</th>\n",
       "      <th>diabetic</th>\n",
       "      <th>alcoholic</th>\n",
       "      <th>handicap</th>\n",
       "      <th>show</th>\n",
       "      <th>num_diseases</th>\n",
       "      <th>att_rate</th>\n",
       "    </tr>\n",
       "  </thead>\n",
       "  <tbody>\n",
       "    <tr>\n",
       "      <th>5</th>\n",
       "      <td>5628261</td>\n",
       "      <td>1</td>\n",
       "      <td>0</td>\n",
       "      <td>M</td>\n",
       "      <td>13</td>\n",
       "      <td>0</td>\n",
       "      <td>0</td>\n",
       "      <td>0</td>\n",
       "      <td>0</td>\n",
       "      <td>0</td>\n",
       "      <td>0</td>\n",
       "      <td>0</td>\n",
       "      <td>0.000000</td>\n",
       "    </tr>\n",
       "    <tr>\n",
       "      <th>24</th>\n",
       "      <td>122451254</td>\n",
       "      <td>2</td>\n",
       "      <td>0</td>\n",
       "      <td>M</td>\n",
       "      <td>28</td>\n",
       "      <td>0</td>\n",
       "      <td>0</td>\n",
       "      <td>0</td>\n",
       "      <td>0</td>\n",
       "      <td>0</td>\n",
       "      <td>0</td>\n",
       "      <td>0</td>\n",
       "      <td>0.000000</td>\n",
       "    </tr>\n",
       "    <tr>\n",
       "      <th>33</th>\n",
       "      <td>179874775</td>\n",
       "      <td>1</td>\n",
       "      <td>0</td>\n",
       "      <td>F</td>\n",
       "      <td>16</td>\n",
       "      <td>0</td>\n",
       "      <td>0</td>\n",
       "      <td>0</td>\n",
       "      <td>0</td>\n",
       "      <td>0</td>\n",
       "      <td>0</td>\n",
       "      <td>0</td>\n",
       "      <td>0.000000</td>\n",
       "    </tr>\n",
       "    <tr>\n",
       "      <th>39</th>\n",
       "      <td>215778678</td>\n",
       "      <td>1</td>\n",
       "      <td>0</td>\n",
       "      <td>M</td>\n",
       "      <td>29</td>\n",
       "      <td>0</td>\n",
       "      <td>0</td>\n",
       "      <td>0</td>\n",
       "      <td>0</td>\n",
       "      <td>1</td>\n",
       "      <td>0</td>\n",
       "      <td>1</td>\n",
       "      <td>0.000000</td>\n",
       "    </tr>\n",
       "    <tr>\n",
       "      <th>57</th>\n",
       "      <td>342478778</td>\n",
       "      <td>1</td>\n",
       "      <td>0</td>\n",
       "      <td>M</td>\n",
       "      <td>0</td>\n",
       "      <td>0</td>\n",
       "      <td>0</td>\n",
       "      <td>0</td>\n",
       "      <td>0</td>\n",
       "      <td>0</td>\n",
       "      <td>0</td>\n",
       "      <td>0</td>\n",
       "      <td>0.000000</td>\n",
       "    </tr>\n",
       "    <tr>\n",
       "      <th>...</th>\n",
       "      <td>...</td>\n",
       "      <td>...</td>\n",
       "      <td>...</td>\n",
       "      <td>...</td>\n",
       "      <td>...</td>\n",
       "      <td>...</td>\n",
       "      <td>...</td>\n",
       "      <td>...</td>\n",
       "      <td>...</td>\n",
       "      <td>...</td>\n",
       "      <td>...</td>\n",
       "      <td>...</td>\n",
       "      <td>...</td>\n",
       "    </tr>\n",
       "    <tr>\n",
       "      <th>110455</th>\n",
       "      <td>998231581612122</td>\n",
       "      <td>3</td>\n",
       "      <td>1</td>\n",
       "      <td>F</td>\n",
       "      <td>81</td>\n",
       "      <td>0</td>\n",
       "      <td>0</td>\n",
       "      <td>0</td>\n",
       "      <td>0</td>\n",
       "      <td>0</td>\n",
       "      <td>0</td>\n",
       "      <td>0</td>\n",
       "      <td>0.333333</td>\n",
       "    </tr>\n",
       "    <tr>\n",
       "      <th>110458</th>\n",
       "      <td>998263455196785</td>\n",
       "      <td>1</td>\n",
       "      <td>0</td>\n",
       "      <td>F</td>\n",
       "      <td>22</td>\n",
       "      <td>1</td>\n",
       "      <td>0</td>\n",
       "      <td>0</td>\n",
       "      <td>0</td>\n",
       "      <td>0</td>\n",
       "      <td>0</td>\n",
       "      <td>0</td>\n",
       "      <td>0.000000</td>\n",
       "    </tr>\n",
       "    <tr>\n",
       "      <th>110467</th>\n",
       "      <td>998695728115913</td>\n",
       "      <td>3</td>\n",
       "      <td>1</td>\n",
       "      <td>F</td>\n",
       "      <td>49</td>\n",
       "      <td>1</td>\n",
       "      <td>1</td>\n",
       "      <td>0</td>\n",
       "      <td>1</td>\n",
       "      <td>0</td>\n",
       "      <td>0</td>\n",
       "      <td>2</td>\n",
       "      <td>0.333333</td>\n",
       "    </tr>\n",
       "    <tr>\n",
       "      <th>110497</th>\n",
       "      <td>999479168794227</td>\n",
       "      <td>3</td>\n",
       "      <td>1</td>\n",
       "      <td>M</td>\n",
       "      <td>44</td>\n",
       "      <td>0</td>\n",
       "      <td>0</td>\n",
       "      <td>0</td>\n",
       "      <td>0</td>\n",
       "      <td>1</td>\n",
       "      <td>0</td>\n",
       "      <td>1</td>\n",
       "      <td>0.333333</td>\n",
       "    </tr>\n",
       "    <tr>\n",
       "      <th>110505</th>\n",
       "      <td>999658497754825</td>\n",
       "      <td>1</td>\n",
       "      <td>0</td>\n",
       "      <td>F</td>\n",
       "      <td>22</td>\n",
       "      <td>1</td>\n",
       "      <td>0</td>\n",
       "      <td>0</td>\n",
       "      <td>0</td>\n",
       "      <td>0</td>\n",
       "      <td>0</td>\n",
       "      <td>0</td>\n",
       "      <td>0.000000</td>\n",
       "    </tr>\n",
       "  </tbody>\n",
       "</table>\n",
       "<p>9157 rows × 13 columns</p>\n",
       "</div>"
      ],
      "text/plain": [
       "                patient  num_appts  num_shows sex  age  bolsa  hypert  \\\n",
       "5               5628261          1          0   M   13      0       0   \n",
       "24            122451254          2          0   M   28      0       0   \n",
       "33            179874775          1          0   F   16      0       0   \n",
       "39            215778678          1          0   M   29      0       0   \n",
       "57            342478778          1          0   M    0      0       0   \n",
       "...                 ...        ...        ...  ..  ...    ...     ...   \n",
       "110455  998231581612122          3          1   F   81      0       0   \n",
       "110458  998263455196785          1          0   F   22      1       0   \n",
       "110467  998695728115913          3          1   F   49      1       1   \n",
       "110497  999479168794227          3          1   M   44      0       0   \n",
       "110505  999658497754825          1          0   F   22      1       0   \n",
       "\n",
       "        diabetic  alcoholic  handicap  show  num_diseases  att_rate  \n",
       "5              0          0         0     0             0  0.000000  \n",
       "24             0          0         0     0             0  0.000000  \n",
       "33             0          0         0     0             0  0.000000  \n",
       "39             0          0         1     0             1  0.000000  \n",
       "57             0          0         0     0             0  0.000000  \n",
       "...          ...        ...       ...   ...           ...       ...  \n",
       "110455         0          0         0     0             0  0.333333  \n",
       "110458         0          0         0     0             0  0.000000  \n",
       "110467         0          1         0     0             2  0.333333  \n",
       "110497         0          0         1     0             1  0.333333  \n",
       "110505         0          0         0     0             0  0.000000  \n",
       "\n",
       "[9157 rows x 13 columns]"
      ]
     },
     "execution_count": 56,
     "metadata": {},
     "output_type": "execute_result"
    }
   ],
   "source": [
    "lowatt=df_patient[df_patient.att_rate<0.5]\n",
    "lowatt"
   ]
  },
  {
   "cell_type": "code",
   "execution_count": 57,
   "id": "6713e43e",
   "metadata": {},
   "outputs": [
    {
     "data": {
      "image/png": "[encoded data removed]",
      "text/plain": [
       "<Figure size 720x720 with 9 Axes>"
      ]
     },
     "metadata": {},
     "output_type": "display_data"
    }
   ],
   "source": [
    "lowatt.iloc[:,3:12].hist(figsize=(10,10));"
   ]
  },
  {
   "cell_type": "code",
   "execution_count": 58,
   "id": "24329575",
   "metadata": {},
   "outputs": [
    {
     "data": {
      "image/png": "[encoded data removed]",
      "text/plain": [
       "<Figure size 720x360 with 1 Axes>"
      ]
     },
     "metadata": {},
     "output_type": "display_data"
    }
   ],
   "source": [
    "lowatt.sex.value_counts().plot(kind='pie');"
   ]
  },
  {
   "cell_type": "markdown",
   "id": "34c535a6",
   "metadata": {},
   "source": [
    "The histogram matrix (and bar chart of the gender) for the characteristics of patients with lower attendance rates shows that those patients likely :\n",
    "* Have one or no chronic illnesses\n",
    "* If they have a chronic illness, it is probably a disability (handicapped)\n",
    "* Are female\n",
    "\n",
    "Are the predictor variables for these patients correlated ? To investigate, we use seaborn's pair plot and inspect off-diagonal scatter plots"
   ]
  },
  {
   "cell_type": "code",
   "execution_count": 59,
   "id": "36b5d39d",
   "metadata": {},
   "outputs": [
    {
     "data": {
      "image/png": "[encoded data removed]",
      "text/plain": [
       "<Figure size 1440x1440 with 72 Axes>"
      ]
     },
     "metadata": {},
     "output_type": "display_data"
    }
   ],
   "source": [
    "sns.pairplot(lowatt.iloc[:,3:12]);"
   ]
  },
  {
   "cell_type": "markdown",
   "id": "76b04502",
   "metadata": {},
   "source": [
    "The only interesting relationship in this pairplot is that between age and the number of diseases, suspected to be a positive correlation. "
   ]
  },
  {
   "cell_type": "code",
   "execution_count": 60,
   "id": "2f971c8d",
   "metadata": {},
   "outputs": [
    {
     "data": {
      "text/plain": [
       "0.35357488367426537"
      ]
     },
     "execution_count": 60,
     "metadata": {},
     "output_type": "execute_result"
    }
   ],
   "source": [
    "lowatt.corr()['age']['num_diseases']"
   ]
  },
  {
   "cell_type": "markdown",
   "id": "78069872",
   "metadata": {},
   "source": [
    "This positive correlation between illness and age is expected of any human population. But is it sufficient to conclude that seniors are the likeliest to miss their appointments due to not only old age, but also the higher number of illnesses that accompany old age?"
   ]
  },
  {
   "cell_type": "code",
   "execution_count": 61,
   "id": "a6cf29cb",
   "metadata": {},
   "outputs": [
    {
     "name": "stdout",
     "output_type": "stream",
     "text": [
      "2.1634296333138136e-05\n"
     ]
    },
    {
     "data": {
      "image/png": "[encoded data removed]",
      "text/plain": [
       "<Figure size 720x360 with 1 Axes>"
      ]
     },
     "metadata": {},
     "output_type": "display_data"
    }
   ],
   "source": [
    "y=lowatt.groupby('age')['att_rate'].mean()\n",
    "x=y.index\n",
    "plt.scatter(x,y)\n",
    "\n",
    "m, b = np.polyfit(x, y, 1)\n",
    "print(m)\n",
    "\n",
    "plt.plot(x, m*x + b,color='orange');\n",
    "\n",
    "plt.xlabel('Age')\n",
    "\n",
    "plt.ylabel('Mean Attendance Rate');\n",
    "\n",
    "plt.title('Mean Attendance Rate by Age for Low-Attendance Patients');"
   ]
  },
  {
   "cell_type": "markdown",
   "id": "1990afa2",
   "metadata": {},
   "source": [
    "The above plot is skewed by the outlier on the top right. Let's remove the outlier from the datasets and replot the same figure:"
   ]
  },
  {
   "cell_type": "code",
   "execution_count": 62,
   "id": "d3999d5f",
   "metadata": {},
   "outputs": [
    {
     "data": {
      "image/png": "[encoded data removed]",
      "text/plain": [
       "<Figure size 720x360 with 1 Axes>"
      ]
     },
     "metadata": {},
     "output_type": "display_data"
    }
   ],
   "source": [
    "idx=lowatt.query('age>100').index\n",
    "\n",
    "lowatt=lowatt.drop(index=idx)\n",
    "\n",
    "y=lowatt.groupby('age')['att_rate'].mean()\n",
    "\n",
    "x=y.index\n",
    "\n",
    "plt.scatter(x,y)\n",
    "\n",
    "m, b = np.polyfit(x, y, 1)\n",
    "\n",
    "plt.plot(x, m*x + b,color='orange');\n",
    "\n",
    "plt.xlabel('Age')\n",
    "\n",
    "plt.ylabel('Mean Attendance Rate');\n",
    "\n",
    "plt.title('Mean Attendance Rate by Age for Low-Attendance Patients');"
   ]
  },
  {
   "cell_type": "code",
   "execution_count": 63,
   "id": "2035b481",
   "metadata": {},
   "outputs": [
    {
     "data": {
      "text/plain": [
       "-0.004527516981967857"
      ]
     },
     "execution_count": 63,
     "metadata": {},
     "output_type": "execute_result"
    }
   ],
   "source": [
    "lowatt.corr()['age']['att_rate']"
   ]
  },
  {
   "cell_type": "markdown",
   "id": "27673e9e",
   "metadata": {},
   "source": [
    "After removing the outlier, the regression line now slopes down, indicating a negative correlation between age and the attendance rate, even for patients with low attendance. Upon inspecting the correlation coefficient, however, we see that this relationship is too weak to conclude that seniors are the likeliest to miss their appointments.\n",
    "It would be interesting to ask the same question to the larger dataset."
   ]
  },
  {
   "cell_type": "markdown",
   "id": "1accd05f",
   "metadata": {},
   "source": [
    "<a id='q6'></a>\n",
    "## Q6: Are certain age groups more likely than others to miss their appointments?"
   ]
  },
  {
   "cell_type": "markdown",
   "id": "6d561dd2",
   "metadata": {},
   "source": [
    "First, let's define the bounds of age groups. I used [this article](https://www.researchgate.net/publication/228404297_Classification_of_Age_Groups_Based_on_Facial_Features) as a reference."
   ]
  },
  {
   "cell_type": "code",
   "execution_count": 64,
   "id": "597232d1",
   "metadata": {},
   "outputs": [
    {
     "data": {
      "image/png": "[encoded data removed]",
      "text/plain": [
       "<Figure size 720x360 with 1 Axes>"
      ]
     },
     "metadata": {},
     "output_type": "display_data"
    }
   ],
   "source": [
    "# Remove age outliers\n",
    "\n",
    "idx=df.query('age>100').index\n",
    "\n",
    "df=df.drop(index=idx)\n",
    "\n",
    "\n",
    "# First, define age groups \n",
    "bin_edges=[0,2,39,59,115]\n",
    "bin_names=['Baby','Young Adult','Middle-Aged Adult','Old Adult']\n",
    "\n",
    "# Creates feature_levels column\n",
    "\n",
    "df['age_group'] = pd.cut(df['age'], bin_edges, labels=bin_names)\n",
    "\n",
    "# Find the mean target value of each feature level with groupby\n",
    "\n",
    "df.groupby('age_group').mean()['show'].plot(kind='bar');\n",
    "plt.xticks(rotation='0')\n",
    "plt.xlabel('Age Group',fontsize=14)\n",
    "plt.ylabel('Mean Attendance Rate',fontsize=14)\n",
    "plt.title('Mean Attendance Rate by Age Group',fontsize=14);"
   ]
  },
  {
   "cell_type": "code",
   "execution_count": 65,
   "id": "648f4d2d",
   "metadata": {},
   "outputs": [
    {
     "data": {
      "text/plain": [
       "'Old Adult'"
      ]
     },
     "execution_count": 65,
     "metadata": {},
     "output_type": "execute_result"
    }
   ],
   "source": [
    "df.groupby('age_group').mean()['show'].idxmax()"
   ]
  },
  {
   "cell_type": "code",
   "execution_count": 66,
   "id": "55812af9",
   "metadata": {},
   "outputs": [
    {
     "data": {
      "text/plain": [
       "'Young Adult'"
      ]
     },
     "execution_count": 66,
     "metadata": {},
     "output_type": "execute_result"
    }
   ],
   "source": [
    "df.groupby('age_group').mean()['show'].idxmin()"
   ]
  },
  {
   "cell_type": "markdown",
   "id": "83e078db",
   "metadata": {},
   "source": [
    "In stark contrast to our previous analysis on the low-attendance dataset, it seems that old adults (i.e. seniors) are in general the likelist to show up for their appointments, followed by babies (who must be accompanied by their parents), middle-aged adults come in the third place, while **young adults are the likeliest to miss their appointments!!**"
   ]
  },
  {
   "cell_type": "markdown",
   "id": "2d30abfd",
   "metadata": {},
   "source": [
    "<a id='q7'></a>\n",
    "## Q7: Is the hospital location of any importance in predicting the possibility of a no-show?"
   ]
  },
  {
   "cell_type": "code",
   "execution_count": 67,
   "id": "51a1afd7",
   "metadata": {},
   "outputs": [
    {
     "data": {
      "image/png": "[encoded data removed]",
      "text/plain": [
       "<Figure size 1440x360 with 1 Axes>"
      ]
     },
     "metadata": {},
     "output_type": "display_data"
    }
   ],
   "source": [
    "df.groupby('area')['show'].mean().plot(kind='bar',figsize=(20,5));\n",
    "plt.xlabel('Neighborhood')\n",
    "plt.ylabel('Mean Attendance Rate')\n",
    "plt.title('Mean Attendance Rate by Neighborhood');"
   ]
  },
  {
   "cell_type": "markdown",
   "id": "d82ccd18",
   "metadata": {},
   "source": [
    "The figure above demonstrates that almost all but 4 neighborhoods have a similar attendance rate around 80%. Three exceptional neighborhoods have above average attendance rates, which are:"
   ]
  },
  {
   "cell_type": "code",
   "execution_count": 68,
   "id": "fde09db3",
   "metadata": {},
   "outputs": [
    {
     "data": {
      "text/plain": [
       "area\n",
       "PARQUE INDUSTRIAL    1.000000\n",
       "ILHA DO BOI          0.914286\n",
       "AEROPORTO            0.875000\n",
       "Name: show, dtype: float64"
      ]
     },
     "execution_count": 68,
     "metadata": {},
     "output_type": "execute_result"
    }
   ],
   "source": [
    "df.groupby('area')['show'].mean().sort_values(ascending=False)[:3]"
   ]
  },
  {
   "cell_type": "markdown",
   "id": "8488b7ac",
   "metadata": {},
   "source": [
    "Another exceptional neighborhood has 0% mean attendance rate: ILHAS OCEÂNICAS DE TRINDADE"
   ]
  },
  {
   "cell_type": "code",
   "execution_count": 69,
   "id": "26d6b208",
   "metadata": {},
   "outputs": [
    {
     "data": {
      "text/plain": [
       "area\n",
       "ILHAS OCEÂNICAS DE TRINDADE    0.000000\n",
       "SANTOS DUMONT                  0.710815\n",
       "SANTA CECÍLIA                  0.725446\n",
       "SANTA CLARA                    0.735178\n",
       "ITARARÉ                        0.737336\n",
       "                                 ...   \n",
       "SOLON BORGES                   0.852878\n",
       "MÁRIO CYPRESTE                 0.854447\n",
       "AEROPORTO                      0.875000\n",
       "ILHA DO BOI                    0.914286\n",
       "PARQUE INDUSTRIAL              1.000000\n",
       "Name: show, Length: 81, dtype: float64"
      ]
     },
     "execution_count": 69,
     "metadata": {},
     "output_type": "execute_result"
    }
   ],
   "source": [
    "df.groupby('area')['show'].mean().sort_values()"
   ]
  },
  {
   "cell_type": "markdown",
   "id": "eb03a60f",
   "metadata": {},
   "source": [
    "Inspecting the appointments made in that neighborhood, we find only two appintments, both of which were no-shows. Two records in a datset of 110,500+ appointments means that not enough data was collected from that neighborhood to judge fairly whether it performs better or worse than others."
   ]
  },
  {
   "cell_type": "code",
   "execution_count": 70,
   "id": "c69769c8",
   "metadata": {},
   "outputs": [
    {
     "data": {
      "text/html": [
       "<div>\n",
       "<style scoped>\n",
       "    .dataframe tbody tr th:only-of-type {\n",
       "        vertical-align: middle;\n",
       "    }\n",
       "\n",
       "    .dataframe tbody tr th {\n",
       "        vertical-align: top;\n",
       "    }\n",
       "\n",
       "    .dataframe thead th {\n",
       "        text-align: right;\n",
       "    }\n",
       "</style>\n",
       "<table border=\"1\" class=\"dataframe\">\n",
       "  <thead>\n",
       "    <tr style=\"text-align: right;\">\n",
       "      <th></th>\n",
       "      <th>patient</th>\n",
       "      <th>appt</th>\n",
       "      <th>sex</th>\n",
       "      <th>scd_datetime</th>\n",
       "      <th>appt_datetime</th>\n",
       "      <th>age</th>\n",
       "      <th>area</th>\n",
       "      <th>bolsa</th>\n",
       "      <th>hypert</th>\n",
       "      <th>diabetic</th>\n",
       "      <th>alcoholic</th>\n",
       "      <th>sms</th>\n",
       "      <th>handicap</th>\n",
       "      <th>show</th>\n",
       "      <th>days_diff</th>\n",
       "      <th>age_group</th>\n",
       "    </tr>\n",
       "  </thead>\n",
       "  <tbody>\n",
       "    <tr>\n",
       "      <th>48754</th>\n",
       "      <td>534986855114</td>\n",
       "      <td>5583947</td>\n",
       "      <td>F</td>\n",
       "      <td>2016-04-14 12:25:43</td>\n",
       "      <td>2016-05-13</td>\n",
       "      <td>51</td>\n",
       "      <td>ILHAS OCEÂNICAS DE TRINDADE</td>\n",
       "      <td>0</td>\n",
       "      <td>0</td>\n",
       "      <td>0</td>\n",
       "      <td>0</td>\n",
       "      <td>0</td>\n",
       "      <td>0</td>\n",
       "      <td>0</td>\n",
       "      <td>29</td>\n",
       "      <td>Middle-Aged Adult</td>\n",
       "    </tr>\n",
       "    <tr>\n",
       "      <th>48765</th>\n",
       "      <td>7256429752481</td>\n",
       "      <td>5583948</td>\n",
       "      <td>F</td>\n",
       "      <td>2016-04-14 12:26:13</td>\n",
       "      <td>2016-05-13</td>\n",
       "      <td>58</td>\n",
       "      <td>ILHAS OCEÂNICAS DE TRINDADE</td>\n",
       "      <td>0</td>\n",
       "      <td>0</td>\n",
       "      <td>0</td>\n",
       "      <td>0</td>\n",
       "      <td>0</td>\n",
       "      <td>0</td>\n",
       "      <td>0</td>\n",
       "      <td>29</td>\n",
       "      <td>Middle-Aged Adult</td>\n",
       "    </tr>\n",
       "  </tbody>\n",
       "</table>\n",
       "</div>"
      ],
      "text/plain": [
       "             patient     appt sex        scd_datetime appt_datetime  age  \\\n",
       "48754   534986855114  5583947   F 2016-04-14 12:25:43    2016-05-13   51   \n",
       "48765  7256429752481  5583948   F 2016-04-14 12:26:13    2016-05-13   58   \n",
       "\n",
       "                              area  bolsa  hypert  diabetic  alcoholic  sms  \\\n",
       "48754  ILHAS OCEÂNICAS DE TRINDADE      0       0         0          0    0   \n",
       "48765  ILHAS OCEÂNICAS DE TRINDADE      0       0         0          0    0   \n",
       "\n",
       "       handicap  show  days_diff          age_group  \n",
       "48754         0     0         29  Middle-Aged Adult  \n",
       "48765         0     0         29  Middle-Aged Adult  "
      ]
     },
     "execution_count": 70,
     "metadata": {},
     "output_type": "execute_result"
    }
   ],
   "source": [
    "df[df.area=='ILHAS OCEÂNICAS DE TRINDADE']"
   ]
  },
  {
   "cell_type": "markdown",
   "id": "28d3d362",
   "metadata": {},
   "source": [
    "<a id='conc'></a>\n",
    "# Conclusions and Limitations"
   ]
  },
  {
   "cell_type": "markdown",
   "id": "c1f14db1",
   "metadata": {},
   "source": [
    "**Summary of Findings and Recommendations**\n",
    "\n",
    "April-June may be the time of seasonal illnesses. It is recommended to collect more data about the diagnosis of each patient after each appointment to identify what the seasonal illnesses are, and allocate more medical personnel and resources  to public hospitals and clinics during those times\n",
    "\n",
    "The predominant attendance rate for patients is generally high at around 80%; the same as the mean attendance rate for the neighborhoods.\n",
    "\n",
    "Sending one SMS reminder to patient may help to slightly improve attendance by no more than 2%\n",
    "\n",
    "Most patients suffer from one or no chronic illnesses. Fewer suffer from more than one chronic illness.\n",
    "\n",
    "Patients with more chronic illnesses are more likely to miss their appointments.\n",
    "\n",
    "Appointments scheduled and due on the same day have the highest attendance rate than appointments booked in advance.\n",
    "\n",
    "Generally, if an appointment is booked fewer than 40 days in advance, then generally: the longer the days the patient has to wait, the more likely they'll miss the appointment. The behavior of patients becomes unpredictable beyond 40 days' worth of wait time.\n",
    "\n",
    "On average, the next available appointment is in 4 days, disregarding outliers.\n",
    "\n",
    "Patients with lower attendance likely :\n",
    "\n",
    "* Have 0-1 chronic illnesses\n",
    "* If they have a chronic illness, it is probably a disability (handicapped)\n",
    "* Are female\n",
    "\n",
    "Old adults (i.e. seniors) are in general the likelist to show up for their appointments, while young adults are the likeliest to miss their appointments.\n",
    "\n",
    "Insufficient data has been collected in ILHAS OCEÂNICAS DE TRINDADE to make any statement about its performance.\n",
    "\n",
    "The three top-performing neighborhoods with regards to attendance rates are PARQUE INDUSTRIAL, ILHA DO BOI, and AEROPORTO . They are worth inspecting further to understand the factors that led to their success and how the management models they use can be applied to other low-performing neighborhoods.\n",
    "\n",
    "Finally, note that all findings are tentative, and any observations or correlations inferred from this analysis may or may not be statistically significant."
   ]
  }
 ],
 "metadata": {
  "kernelspec": {
   "display_name": "Python 3",
   "language": "python",
   "name": "python3"
  },
  "language_info": {
   "codemirror_mode": {
    "name": "ipython",
    "version": 3
   },
   "file_extension": ".py",
   "mimetype": "text/x-python",
   "name": "python",
   "nbconvert_exporter": "python",
   "pygments_lexer": "ipython3",
   "version": "3.8.8"
  }
 },
 "nbformat": 4,
 "nbformat_minor": 5
}
